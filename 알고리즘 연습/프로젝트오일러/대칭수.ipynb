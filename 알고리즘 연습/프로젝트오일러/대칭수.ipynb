{
 "cells": [
  {
   "cell_type": "code",
   "execution_count": null,
   "metadata": {},
   "outputs": [],
   "source": [
    "# 앞에서부터 읽을때나 뒤에서부터 읽을때 모양이 같은수를 대칭수라고 한다. \n",
    "# 두자리 수를 곱해서 만들수 있는 대칭수 중에 가장 큰수는 9009 (91*99)\n",
    "# 세자리 수를 곱해서 만들 수 있는 가장 큰 대칭수는 얼마? \n"
   ]
  },
  {
   "cell_type": "code",
   "execution_count": 41,
   "metadata": {},
   "outputs": [
    {
     "name": "stdout",
     "output_type": "stream",
     "text": [
      "906609\n",
      "Wall time: 364 ms\n"
     ]
    }
   ],
   "source": [
    "%%time\n",
    "def isOk(n) : \n",
    "    s= str(n)\n",
    "    return s==s[::-1]\n",
    "\n",
    "def main():\n",
    "    n=0\n",
    "    for i in range (999,99,-1):\n",
    "        for j in range (999,99,-1):\n",
    "            m= i*j\n",
    "            if isOk(m) and m>n:\n",
    "                n=m\n",
    "    print(n)\n",
    "\n",
    "\n",
    "main()\n",
    "\n",
    "#result = 12345000\n",
    "#a=str(result)\n",
    "#a[1]==a[-1]\n",
    "\n",
    "\n",
    "#대칭수 검사 프로그램 \n",
    "# 길이 짝수 일때 홀수 일대 구분 \n",
    "#짝수 일때 \n",
    "#if len(result)"
   ]
  },
  {
   "cell_type": "code",
   "execution_count": 30,
   "metadata": {},
   "outputs": [
    {
     "name": "stdout",
     "output_type": "stream",
     "text": [
      "99000099\n",
      "Wall time: 36.7 s\n"
     ]
    }
   ],
   "source": [
    "%%time\n",
    "\n",
    "def isOk(n) : \n",
    "    s= str(n)\n",
    "    return s==s[::-1]\n",
    "\n",
    "def main():\n",
    "    n=0\n",
    "    for i in range (9999,999,-1):\n",
    "        for j in range (9999,999,-1):\n",
    "            m= i*j\n",
    "            if isOk(m) and m>n:\n",
    "                n=m\n",
    "    \n",
    "    print(n)\n",
    "    \n",
    "\n",
    "main()"
   ]
  },
  {
   "cell_type": "code",
   "execution_count": 117,
   "metadata": {},
   "outputs": [
    {
     "data": {
      "text/plain": [
       "8"
      ]
     },
     "execution_count": 117,
     "metadata": {},
     "output_type": "execute_result"
    }
   ],
   "source": [
    "# 문제 7 \n",
    "# 1부터 10까지의 어떤 수로도 나누어 떨어지는 수는 2520임\n",
    "\n",
    "# 1부터 20 사이의 어떤 수로도 나누어 떨어지는 가장 작은 수는 얼마? \n",
    "\n",
    "# 나눳을때 나머지가 0 최소공배수? \n",
    "def divide(a,b):   #1) 두 수 간의 최대 공약수를 구하는 함수 \n",
    "    if a>b : \n",
    "        great = a\n",
    "        small = b\n",
    "    else:\n",
    "        great = b\n",
    "        small = a\n",
    "    num=0\n",
    "    for i in range (small,0,-1):\n",
    "        if (a%i)==0 and (b%i)==0:\n",
    "                num = i\n",
    "                break\n",
    "    #print(num)\n",
    "    return num\n",
    "\n",
    "\n",
    "divide(16,8)\n"
   ]
  },
  {
   "cell_type": "code",
   "execution_count": 137,
   "metadata": {},
   "outputs": [
    {
     "name": "stdout",
     "output_type": "stream",
     "text": [
      "232792560\n"
     ]
    }
   ],
   "source": [
    "from math import gcd\n",
    "\n",
    "def solution(arr):\n",
    "    def lcm(x,y):\n",
    "        return x*y//gcd(x,y)\n",
    "    \n",
    "    while True:\n",
    "        arr.append(lcm(arr.pop(),arr.pop()))\n",
    "        if len(arr)==1:\n",
    "            return arr[0]\n",
    "        \n",
    "        \n",
    "print(solution([1,2,3,4,5,6,7,8,9,10,11,12,13,14,15,16,17,18,19,20]))"
   ]
  },
  {
   "cell_type": "code",
   "execution_count": 138,
   "metadata": {},
   "outputs": [
    {
     "name": "stdout",
     "output_type": "stream",
     "text": [
      "Wall time: 0 ns\n"
     ]
    },
    {
     "data": {
      "text/plain": [
       "232792560"
      ]
     },
     "execution_count": 138,
     "metadata": {},
     "output_type": "execute_result"
    }
   ],
   "source": [
    "%%time\n",
    "def multi(a,b):\n",
    "    return int((a*b)/divide(a,b))  #2) 두 수 간의 최소공배수를 구하는 함수 {(a*b) / (a와 b의 최대공약수) == 최소공배수}  \n",
    "\n",
    "def expr(x):   #3) 1~20까지 \n",
    "    a=1\n",
    "    b=2\n",
    "    while b<x+1:\n",
    "        a=multi(a,b)\n",
    "        b=b+1\n",
    "        \n",
    "    \n",
    "    return a\n",
    "\n",
    "expr(20)\n"
   ]
  }
 ],
 "metadata": {
  "kernelspec": {
   "display_name": "[CPU_ENV]",
   "language": "python",
   "name": "cpu_env"
  },
  "language_info": {
   "codemirror_mode": {
    "name": "ipython",
    "version": 3
   },
   "file_extension": ".py",
   "mimetype": "text/x-python",
   "name": "python",
   "nbconvert_exporter": "python",
   "pygments_lexer": "ipython3",
   "version": "3.6.9"
  }
 },
 "nbformat": 4,
 "nbformat_minor": 2
}
