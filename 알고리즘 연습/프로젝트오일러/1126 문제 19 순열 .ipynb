{
 "cells": [
  {
   "cell_type": "code",
   "execution_count": 85,
   "metadata": {},
   "outputs": [
    {
     "ename": "SyntaxError",
     "evalue": "unexpected EOF while parsing (<ipython-input-85-0893e9e8828c>, line 12)",
     "output_type": "error",
     "traceback": [
      "\u001b[1;36m  File \u001b[1;32m\"<ipython-input-85-0893e9e8828c>\"\u001b[1;36m, line \u001b[1;32m12\u001b[0m\n\u001b[1;33m    \u001b[0m\n\u001b[1;37m    ^\u001b[0m\n\u001b[1;31mSyntaxError\u001b[0m\u001b[1;31m:\u001b[0m unexpected EOF while parsing\n"
     ]
    }
   ],
   "source": [
    "import random\n",
    "# 순열 만들기  274240 2로시작하는 수중 저거 번째 (2,6,6)\n",
    "#362880/32320\n",
    "#0~9 를 이용해서 만드는 사전식 순열에서 1,000,000 번째 값은?\n",
    "myList = [0,1,2,3,4,5,6,7,8,9]\n",
    "#a= ist.randpop()\n",
    "#print(a,list)\n",
    "\n",
    "print(myList)\n",
    "\n",
    "for i in range (1,362880):\n",
    "    \n"
   ]
  },
  {
   "cell_type": "code",
   "execution_count": 135,
   "metadata": {},
   "outputs": [
    {
     "data": {
      "text/plain": [
       "2"
      ]
     },
     "execution_count": 135,
     "metadata": {},
     "output_type": "execute_result"
    }
   ],
   "source": [
    "def fac(x):\n",
    "    t=1\n",
    "    for i in range(1,x+1):\n",
    "        t= t*i\n",
    "    return t\n",
    "\n",
    "\n",
    "#9#274240  //2\n",
    "#8#32320   //6\n",
    "#7#2080    //6\n",
    "#6#640     //2\n",
    "#5#40      //5\n",
    "#4# 16     //1\n",
    "#3 # 4     //2\n",
    "#2  # 2    //2\n",
    "#1  # 1    //1 \n",
    "fac(2)\n",
    "\n"
   ]
  },
  {
   "cell_type": "code",
   "execution_count": 178,
   "metadata": {
    "scrolled": false
   },
   "outputs": [
    {
     "name": "stdout",
     "output_type": "stream",
     "text": [
      "2\n",
      "[0, 4, 6]\n",
      "0\n",
      "[0, 6]\n",
      "[2, 7, 8, 3, 9, 1, 5, 4, 6, 0]\n"
     ]
    }
   ],
   "source": [
    "def fac(x):\n",
    "    t=1\n",
    "    for i in range(1,x+1):\n",
    "        t= t*i\n",
    "    return t\n",
    "\n",
    "myList = [0,1,2,3,4,5,6,7,8,9]\n",
    "\n",
    "a=[]\n",
    "num=1000000\n",
    "for i in range(9,0,-1):\n",
    "    b=num//fac(i)\n",
    "    num = num - fac(i)*b\n",
    "    if (num % fac(i)==0):\n",
    "            print(b)\n",
    "            print(myList)\n",
    "            b=b-1\n",
    "            \n",
    "    a.append(myList.pop(b))\n",
    "    \n",
    "print(a+myList)    \n",
    " \n"
   ]
  },
  {
   "cell_type": "code",
   "execution_count": 182,
   "metadata": {},
   "outputs": [
    {
     "name": "stdout",
     "output_type": "stream",
     "text": [
      "637120\n",
      "2\n",
      "[]\n",
      "274240\n",
      "3\n",
      "[]\n",
      "233920\n",
      "2\n",
      "[2]\n",
      "193600\n",
      "3\n",
      "[2]\n",
      "153280\n",
      "4\n",
      "[2]\n",
      "112960\n",
      "5\n",
      "[2]\n",
      "72640\n",
      "6\n",
      "[2]\n",
      "32320\n",
      "7\n",
      "[2]\n",
      "27280\n",
      "2\n",
      "[2, 6]\n",
      "22240\n",
      "3\n",
      "[2, 6]\n",
      "17200\n",
      "4\n",
      "[2, 6]\n",
      "12160\n",
      "5\n",
      "[2, 6]\n",
      "7120\n",
      "6\n",
      "[2, 6]\n",
      "2080\n",
      "7\n",
      "[2, 6]\n",
      "1360\n",
      "2\n",
      "[2, 6, 6]\n",
      "640\n",
      "3\n",
      "[2, 6, 6]\n",
      "520\n",
      "2\n",
      "[2, 6, 6, 2]\n",
      "400\n",
      "3\n",
      "[2, 6, 6, 2]\n",
      "280\n",
      "4\n",
      "[2, 6, 6, 2]\n",
      "160\n",
      "5\n",
      "[2, 6, 6, 2]\n",
      "40\n",
      "6\n",
      "[2, 6, 6, 2]\n",
      "16\n",
      "2\n",
      "[2, 6, 6, 2, 5]\n",
      "10\n",
      "2\n",
      "[2, 6, 6, 2, 5, 1]\n",
      "4\n",
      "3\n",
      "[2, 6, 6, 2, 5, 1]\n",
      "2\n",
      "2\n",
      "[2, 6, 6, 2, 5, 1, 2]\n",
      "1\n",
      "2\n",
      "[2, 6, 6, 2, 5, 1, 2, 1]\n",
      "[2, 7, 8, 3, 9, 1, 5, 4, 6, 0]\n"
     ]
    }
   ],
   "source": [
    "def n_factorial(n):\n",
    "    k = 1\n",
    "    for i in range(1,n+1):\n",
    "        k = k*i\n",
    "    return k\n",
    "\n",
    "def nth_numList(x):\n",
    "    numList=[]\n",
    "    mylist=[]\n",
    "    a = [0,1,2,3,4,5,6,7,8,9]\n",
    "    for i in [9,8,7,6,5,4,3,2,1,0]:\n",
    "        n=1\n",
    "        while x>n_factorial(i):\n",
    "            x = x-n_factorial(i)\n",
    "            n +=1\n",
    "            print(x)\n",
    "            print(n)\n",
    "            \n",
    "        numList.append(n-1)\n",
    "    for i in numList:\n",
    "        b = a.pop(i)\n",
    "        mylist.append(b)\n",
    "        \n",
    "    return mylist\n",
    "print(nth_numList(1000000))"
   ]
  }
 ],
 "metadata": {
  "kernelspec": {
   "display_name": "[CPU_ENV]",
   "language": "python",
   "name": "cpu_env"
  },
  "language_info": {
   "codemirror_mode": {
    "name": "ipython",
    "version": 3
   },
   "file_extension": ".py",
   "mimetype": "text/x-python",
   "name": "python",
   "nbconvert_exporter": "python",
   "pygments_lexer": "ipython3",
   "version": "3.6.9"
  }
 },
 "nbformat": 4,
 "nbformat_minor": 2
}
