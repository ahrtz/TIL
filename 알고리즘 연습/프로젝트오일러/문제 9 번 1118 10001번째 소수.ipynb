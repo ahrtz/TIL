{
 "cells": [
  {
   "cell_type": "code",
   "execution_count": 1,
   "metadata": {},
   "outputs": [
    {
     "name": "stdout",
     "output_type": "stream",
     "text": [
      "25164150\n"
     ]
    }
   ],
   "source": [
    "#1 부터 10까지의 자연수를 각각 제곱해서 더하면 \n",
    "# 1**2 + 2**2 + ..... 385\n",
    "# (1+ 2 +3 +4+..) **2 =3025 \n",
    "## 그 차이를 구하세요 = 3025 - 385 \n",
    "\n",
    "# 1부터 100까지 위의 과정을 거치면 결과는? \n",
    "result1=0\n",
    "result2 = 0\n",
    "for i in range(1,101,1):\n",
    "    result1 = result1 + (i**2)\n",
    "    result2 = result2+i\n",
    "result2 = result2**2\n",
    "print(result2-result1)"
   ]
  },
  {
   "cell_type": "code",
   "execution_count": 2,
   "metadata": {},
   "outputs": [
    {
     "name": "stdout",
     "output_type": "stream",
     "text": [
      "29\n",
      "Wall time: 999 µs\n"
     ]
    }
   ],
   "source": [
    "%%time\n",
    "# 소수를 크기순으로 나열하면 2,3,5,7,11,13,17\n",
    "#이때 10001 번째 소수는?\n",
    "result3 = []\n",
    "for i in range(2,110):\n",
    "    exp = []\n",
    "    for j in range(2,110):\n",
    "        if i%j == 0 :\n",
    "            exp.append(j)\n",
    "    if len(exp)==1 :\n",
    "        result3.append(i)\n",
    "        \n",
    "print(len(result3))\n"
   ]
  },
  {
   "cell_type": "code",
   "execution_count": 3,
   "metadata": {},
   "outputs": [
    {
     "ename": "SyntaxError",
     "evalue": "invalid syntax (<ipython-input-3-0377f2d8a869>, line 7)",
     "output_type": "error",
     "traceback": [
      "\u001b[1;36m  File \u001b[1;32m\"<ipython-input-3-0377f2d8a869>\"\u001b[1;36m, line \u001b[1;32m7\u001b[0m\n\u001b[1;33m    while\u001b[0m\n\u001b[1;37m          ^\u001b[0m\n\u001b[1;31mSyntaxError\u001b[0m\u001b[1;31m:\u001b[0m invalid syntax\n"
     ]
    }
   ],
   "source": [
    "def isPrime(n):\n",
    "    while True:\n",
    "        if n==1:\n",
    "            return 2\n",
    "        count =1 \n",
    "        num=3\n",
    "        while "
   ]
  },
  {
   "cell_type": "code",
   "execution_count": 42,
   "metadata": {},
   "outputs": [
    {
     "name": "stdout",
     "output_type": "stream",
     "text": [
      "Wall time: 426 ms\n"
     ]
    },
    {
     "data": {
      "text/plain": [
       "104743"
      ]
     },
     "execution_count": 42,
     "metadata": {},
     "output_type": "execute_result"
    }
   ],
   "source": [
    "%%time\n",
    "## ㅇㅔ라토네스의 체 \n",
    "def is_prime(num):\n",
    "    factor = 2\n",
    "    while (factor * factor <= num):\n",
    "        if num%factor == 0:\n",
    "            return False\n",
    "        factor +=1\n",
    "    return True  \n",
    "\n",
    "\n",
    "def nprime(num):\n",
    "    if num==1:\n",
    "        return 2\n",
    "    count=1\n",
    "    n=1\n",
    "    while count<num:\n",
    "        n=n+2\n",
    "        if is_prime(n):\n",
    "            count = count +1\n",
    "        \n",
    "    return n \n",
    "        \n",
    "\n",
    "#result = []\n",
    "#for i in range (1,100):\n",
    "#    if is_prime(i):\n",
    "#        print(i)\n",
    "#is_prime\n",
    "nprime(10001)"
   ]
  },
  {
   "cell_type": "code",
   "execution_count": 18,
   "metadata": {},
   "outputs": [
    {
     "data": {
      "text/plain": [
       "2.0"
      ]
     },
     "execution_count": 18,
     "metadata": {},
     "output_type": "execute_result"
    }
   ],
   "source": [
    "math.sqrt(4)"
   ]
  },
  {
   "cell_type": "code",
   "execution_count": 6,
   "metadata": {},
   "outputs": [
    {
     "name": "stdout",
     "output_type": "stream",
     "text": [
      "104743\n",
      "Wall time: 99.3 ms\n"
     ]
    }
   ],
   "source": [
    "%%time\n",
    "def isprime(n, primes):\n",
    "    for p in primes:\n",
    "        if n % p == 0: return False\n",
    "        if p*p > n: return True\n",
    "\n",
    "primes = [2]\n",
    "n, cnt = 3, 1\n",
    "while cnt < 10001:\n",
    "    if isprime(n,primes):\n",
    "        primes.append(n)\n",
    "        cnt += 1\n",
    "    n += 2\n",
    "\n",
    "print(primes[-1])"
   ]
  }
 ],
 "metadata": {
  "kernelspec": {
   "display_name": "[CPU_ENV]",
   "language": "python",
   "name": "cpu_env"
  },
  "language_info": {
   "codemirror_mode": {
    "name": "ipython",
    "version": 3
   },
   "file_extension": ".py",
   "mimetype": "text/x-python",
   "name": "python",
   "nbconvert_exporter": "python",
   "pygments_lexer": "ipython3",
   "version": "3.6.9"
  }
 },
 "nbformat": 4,
 "nbformat_minor": 2
}
