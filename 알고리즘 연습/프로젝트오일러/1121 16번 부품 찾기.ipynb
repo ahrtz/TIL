{
 "cells": [
  {
   "cell_type": "code",
   "execution_count": 21,
   "metadata": {
    "scrolled": true
   },
   "outputs": [
    {
     "name": "stdout",
     "output_type": "stream",
     "text": [
      "['A7', 'A8', 'B9', 'A8', 'B9', 'C7', 'C7', 'B9', 'A7', 'B8', 'C9', 'A8', 'C9', 'C7', 'B9', 'A8', 'C9', 'C8', 'A7', 'A8', 'B9', 'C9', 'C7']\n",
      "<class 'str'>\n",
      "3개\n"
     ]
    },
    {
     "data": {
      "text/plain": [
       "'3'"
      ]
     },
     "execution_count": 21,
     "metadata": {},
     "output_type": "execute_result"
    }
   ],
   "source": [
    "# 공장에서 부품을 생산한다\n",
    "#각 부품의 생산정보가 문자열로 제공된다\n",
    "\" 예: 부품생산정보 A7B3A9C6B6A3B9C7A3A8B8C1C9\"\n",
    "# 문자는 부품이름\n",
    "# 숫자는 부품의 품질 1~9 \n",
    "# 생산정보에서 품질이 7이상인 부품만 추출 (7 미만은 불량품 )\n",
    "# 결과는 A7A9B9C7A8B8C9\n",
    "# 만들어진 결과를 이용해서 부품을 조립\n",
    "## ABC가 연속적으로 있으면 제품으로 조립\n",
    "## 주어진 문자열을 이용해서 총 몇개의 조립을 할 수 있나요 \n",
    "a= \"A7B5C4A1A8B9B3A5A8B9B1C7C1A1B3C7B9B3A7B8A1C9A8C9C7B9C3A5A8B3C9C8A7A8B9C9C7\"\n",
    "b=[]\n",
    "for i in range(len(a)):\n",
    "    if i %2 ==1 :\n",
    "        if int(a[i])>6:\n",
    "            b.append(a[i-1:i+1])\n",
    "print(b)\n",
    "print(type(b[1]))\n",
    "cnt=0\n",
    "for n in range(len(b)-2):\n",
    "    if b[n][0]==\"A\":\n",
    "        if b[n+1][0] == \"B\":\n",
    "            if b[n+2][0] == \"C\":\n",
    "                cnt +=1\n",
    "print(\"{}개\".format(cnt))\n",
    "a[59]"
   ]
  },
  {
   "cell_type": "code",
   "execution_count": 30,
   "metadata": {},
   "outputs": [
    {
     "data": {
      "text/plain": [
       "['A8B9C7', 'A7B8C9', 'A8B9C9']"
      ]
     },
     "execution_count": 30,
     "metadata": {},
     "output_type": "execute_result"
    }
   ],
   "source": [
    "import re             # 정규식 regular 의 약자 \n",
    "# 패턴 매칭 문제 \n",
    "# 정규식\n",
    "\n",
    "regex=re.compile(\".[789]\")\n",
    "bb=regex.findall(a)\n",
    "cc=\"\".join(bb)\n",
    "cc\n",
    "dd=re.compile(\"A.B.C.\")\n",
    "ee=dd.findall(cc)\n",
    "ee"
   ]
  }
 ],
 "metadata": {
  "kernelspec": {
   "display_name": "[CPU_ENV]",
   "language": "python",
   "name": "cpu_env"
  },
  "language_info": {
   "codemirror_mode": {
    "name": "ipython",
    "version": 3
   },
   "file_extension": ".py",
   "mimetype": "text/x-python",
   "name": "python",
   "nbconvert_exporter": "python",
   "pygments_lexer": "ipython3",
   "version": "3.6.9"
  }
 },
 "nbformat": 4,
 "nbformat_minor": 2
}
