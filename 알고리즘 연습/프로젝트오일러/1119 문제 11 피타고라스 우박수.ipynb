{
 "cells": [
  {
   "cell_type": "code",
   "execution_count": 41,
   "metadata": {},
   "outputs": [
    {
     "name": "stdout",
     "output_type": "stream",
     "text": [
      "200 375 425\n",
      "31875000\n",
      "Wall time: 139 ms\n"
     ]
    }
   ],
   "source": [
    "%%time\n",
    "## 피타고라스 정리 :\n",
    "## 3개의 자연수 A,B,C\n",
    "\n",
    "## 이때 a+b+c 가 1000인 피타고라스 수는 1개만 존재 이때 a* b*c =? \n",
    "\n",
    "# a+b 2 = c2 -2ab\n",
    "\n",
    "#c = 1000-(a+b)\n",
    "#(1000-(a+b))2=a2+b2\n",
    "#result =[]\n",
    "for a in range(1,333):\n",
    "    for b in range(a,667-a):\n",
    "        if (1000-(a+b))**2 == a**2+b**2:\n",
    "            #if b>a :\n",
    "            print(a,b,1000-a-b)\n",
    "            print(a*b*(1000-a-b))\n",
    "\n"
   ]
  },
  {
   "cell_type": "code",
   "execution_count": 54,
   "metadata": {},
   "outputs": [],
   "source": [
    "# 12 번\n",
    "# 양의 정수 n에 대해서 다음과 같은 계산과정을 반복\n",
    "# n이 짝수일 경우 => n = n/2\n",
    "# n이 홀수일 경우 => n= 3*n + 1\n",
    "# 예시 13-> 40 -> 20 -> 10 -> 5 -> 16 -> 8 -> 4 -> 2->1->4\n",
    "# 예시 51 -> 154 -> 77 -> 232 -> 116 -> 58 -> 29 -> 82 ->41 ........\n",
    "# 어떤 수를 넣어도 결국 1로 끝난다. \n",
    "## 1,000,000(백만) 이하의 수로 시작했을때 가장 긴 과정을 거치는 수는 몇인가? \n",
    "\n",
    "maxi=0\n",
    "for i in range(100,1,-1):\n",
    "        count =0\n",
    "        n=i\n",
    "        while n=1:\n",
    "            if n % 2 ==0:\n",
    "                n=n/2\n",
    "                count=count+1\n",
    "            if n %2 ==1:\n",
    "                n= 3*n + 1\n",
    "                count=count+1\n",
    "            if n==1:\n",
    "                if maxi<count:\n",
    "                    maxi=count\n",
    "                    print(maxi)\n",
    "                    print(\"ddd {}\".format(i))\n",
    "            \n",
    "                    break\n",
    "            "
   ]
  },
  {
   "cell_type": "code",
   "execution_count": 1,
   "metadata": {
    "scrolled": true
   },
   "outputs": [
    {
     "name": "stdout",
     "output_type": "stream",
     "text": [
      "[837799, 524]\n",
      "Wall time: 21 s\n"
     ]
    }
   ],
   "source": [
    "%%time\n",
    "def mol(n):\n",
    "    count =0\n",
    "    if n==1:\n",
    "        return count\n",
    "    \n",
    "    \n",
    "    while n != 1:\n",
    "        \n",
    "        if n%2 == 0 :\n",
    "            n = n/2\n",
    "            count = count+1\n",
    "            \n",
    "        elif n%2 ==1:\n",
    "            n = 3*n +1\n",
    "            count = count+1\n",
    "           \n",
    "    return count\n",
    "\n",
    "maxim = [int(2),0]\n",
    "\n",
    "for i in range(500000,1000000):\n",
    "    if mol(i)>maxim[1]:\n",
    "        maxim[0] = i\n",
    "        maxim[1] = mol(i)\n",
    "print(maxim)\n"
   ]
  },
  {
   "cell_type": "code",
   "execution_count": 2,
   "metadata": {},
   "outputs": [
    {
     "name": "stdout",
     "output_type": "stream",
     "text": [
      "[837799    524]\n",
      "Wall time: 23.3 s\n"
     ]
    }
   ],
   "source": [
    "%%time\n",
    "import numpy as np\n",
    "def mol(n):\n",
    "    count =0\n",
    "    if n==1:\n",
    "        return count\n",
    "    \n",
    "    \n",
    "    while n != 1:\n",
    "        \n",
    "        if n%2 == 0 :\n",
    "            n = n/2\n",
    "            count = count+1\n",
    "            \n",
    "        elif n%2 ==1:\n",
    "            n = 3*n +1\n",
    "            count = count+1\n",
    "           \n",
    "    return count\n",
    "\n",
    "arr =  np.array([1,2])\n",
    "\n",
    "for i in range(500000,1000001):\n",
    "    if mol(i)>arr[1]:\n",
    "        arr[0] = i\n",
    "        arr[1] = mol(i)\n",
    "print(arr)\n"
   ]
  },
  {
   "cell_type": "code",
   "execution_count": 5,
   "metadata": {},
   "outputs": [
    {
     "name": "stdout",
     "output_type": "stream",
     "text": [
      "525\n",
      "837799\n",
      "calculation time: 2.9721686840057373\n",
      "2\n"
     ]
    }
   ],
   "source": [
    "import time\n",
    "start_time = time.time()\n",
    " \n",
    "def collatz(num):\n",
    "    if num == 1: \n",
    "        return 1\n",
    "    elif num in cache :\n",
    "          return cache[num]\n",
    "    elif num%2==0:\n",
    "        return collatz(num/2) +1\n",
    "    else:\n",
    "        return collatz(num*3+1) +1\n",
    "result=[]\n",
    "cache={}\n",
    "i=1;maxValue=0\n",
    "while i < 1000000:\n",
    "    value = collatz(i)\n",
    "    if value > maxValue : \n",
    "        maxValue = value\n",
    "        result.append(i)\n",
    "    cache[i] = value\n",
    "    i+=1\n",
    "     \n",
    "print(maxValue)\n",
    "print(result[-1])\n",
    "print(\"calculation time:\", time.time()-start_time)\n",
    "print(collatz(2))"
   ]
  },
  {
   "cell_type": "code",
   "execution_count": 153,
   "metadata": {},
   "outputs": [
    {
     "name": "stdout",
     "output_type": "stream",
     "text": [
      "[871 178]\n",
      "19\n",
      "Wall time: 23 ms\n"
     ]
    }
   ],
   "source": [
    "%%time\n",
    "import numpy as np\n",
    "def mol(n):\n",
    "    count =0\n",
    "    if n==1:\n",
    "        return count\n",
    "    \n",
    "    \n",
    "    while n != 1:\n",
    "        \n",
    "        if n%2 == 0 :\n",
    "            n = n/2\n",
    "            count = count+1\n",
    "            \n",
    "        elif n%2 ==1:\n",
    "            n = 3*n +1\n",
    "            count = count+1\n",
    "           \n",
    "    return count\n",
    "\n",
    "arr =  np.array([1,2])\n",
    "\n",
    "\n",
    "for i in range(1,1000):\n",
    "    if mol(i)>arr[1]:\n",
    "        arr[0] = i\n",
    "        arr[1] = mol(i)\n",
    "print(arr)\n",
    "print(mol(9))\n"
   ]
  }
 ],
 "metadata": {
  "kernelspec": {
   "display_name": "[CPU_ENV]",
   "language": "python",
   "name": "cpu_env"
  },
  "language_info": {
   "codemirror_mode": {
    "name": "ipython",
    "version": 3
   },
   "file_extension": ".py",
   "mimetype": "text/x-python",
   "name": "python",
   "nbconvert_exporter": "python",
   "pygments_lexer": "ipython3",
   "version": "3.6.9"
  }
 },
 "nbformat": 4,
 "nbformat_minor": 2
}
