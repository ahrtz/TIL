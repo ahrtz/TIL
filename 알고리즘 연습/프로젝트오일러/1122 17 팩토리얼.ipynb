{
 "cells": [
  {
   "cell_type": "code",
   "execution_count": 10,
   "metadata": {},
   "outputs": [
    {
     "name": "stdout",
     "output_type": "stream",
     "text": [
      "648\n"
     ]
    }
   ],
   "source": [
    "# 10! = 3628800 \n",
    "# 각 자리수의 합은 27\n",
    "# 100! 구해보셈\n",
    "res=1\n",
    "for i in range(1,100):\n",
    "    res *= i\n",
    "    \n",
    "ex = str(res)\n",
    "ex1= []\n",
    "for i in range(len(ex)):\n",
    "    ex1.append(int(ex[i]))\n",
    "print(sum(ex1))"
   ]
  },
  {
   "cell_type": "code",
   "execution_count": 8,
   "metadata": {},
   "outputs": [
    {
     "name": "stdout",
     "output_type": "stream",
     "text": [
      "[1, 3, 4, 5]\n",
      "[1, 5, 4, 7]\n",
      "[1, 7, 4, 9]\n",
      "[1, 9, 4, 2]\n",
      "[1, 2, 4, 3]\n",
      "[1, 3, 4, 4]\n",
      "[1, 4, 4, 7]\n",
      "[1, 7, 4, 9, 21]\n",
      "<class 'list'>\n",
      "Wall time: 0 ns\n"
     ]
    }
   ],
   "source": [
    "%%time\n",
    "# 문제 18 최소 10개 최대 20개의 숫자로 구성된 숫자목록을 이용 \n",
    "# x= \"1,3,4,5,7,9,2,3,4,7\"\n",
    "# 숫자목록을 재배치 \n",
    "# 1 앞에서 4개를 선택 \n",
    "# [1,3,4,,5]=> 합구한다 13 \n",
    "# [3,1,5,4],7,9,2,3,4,7 => 위치 교환\n",
    "# 2 한칸 전진해서 반복 \n",
    "# 3,[1,5,4,7],9,2,3,4,7 => 17\n",
    "# 3,5,1,7,4,9,2,3,4,7\n",
    "# 가장 큰합은 무엇이고 4개의 숫자는 순서대로 무엇인가요\n",
    "\n",
    "x =  \"1,3,4,5,7,9,2,3,4,7\"\n",
    "x1= x.split(\",\")\n",
    "max1=0\n",
    "resul=[]\n",
    "for i in range(len(x1)-3):\n",
    "    exp=[]\n",
    "    exp=[int(x1[i]),int(x1[i+1]),int(x1[i+2]),int(x1[i+3])]\n",
    "    sum1=sum(exp)\n",
    "    print(exp)\n",
    "    if sum1>max1:\n",
    "        max1=sum1\n",
    "        resul=[int(x1[i]),int(x1[i+1]),int(x1[i+2]),int(x1[i+3]),sum1]\n",
    "    x1[i]=exp[1]\n",
    "    x1[i+1]=exp[0]\n",
    "    x1[i+2]=exp[3]\n",
    "    x1[i+3]=exp[2]\n",
    "\n",
    "    \n",
    "print(resul)\n",
    "print(type(x1))"
   ]
  },
  {
   "cell_type": "code",
   "execution_count": 32,
   "metadata": {},
   "outputs": [
    {
     "name": "stdout",
     "output_type": "stream",
     "text": [
      "[10, 15, 3, 5]\n",
      "[15, 10, 5, 3, '9', '5', '7', '8', '9', '15', '44', '54', '15', '67', '32', '25', '48', '98', '44', '56']\n",
      "[10, 5, 3, 9]\n",
      "[15, 5, 10, 9, 3, '5', '7', '8', '9', '15', '44', '54', '15', '67', '32', '25', '48', '98', '44', '56']\n",
      "[10, 9, 3, 5]\n",
      "[15, 5, 9, 10, 5, 3, '7', '8', '9', '15', '44', '54', '15', '67', '32', '25', '48', '98', '44', '56']\n",
      "[10, 5, 3, 7]\n",
      "[15, 5, 9, 5, 10, 7, 3, '8', '9', '15', '44', '54', '15', '67', '32', '25', '48', '98', '44', '56']\n",
      "[10, 7, 3, 8]\n",
      "[15, 5, 9, 5, 7, 10, 8, 3, '9', '15', '44', '54', '15', '67', '32', '25', '48', '98', '44', '56']\n",
      "[10, 8, 3, 9]\n",
      "[15, 5, 9, 5, 7, 8, 10, 9, 3, '15', '44', '54', '15', '67', '32', '25', '48', '98', '44', '56']\n",
      "[10, 9, 3, 15]\n",
      "[15, 5, 9, 5, 7, 8, 9, 10, 15, 3, '44', '54', '15', '67', '32', '25', '48', '98', '44', '56']\n",
      "[10, 15, 3, 44]\n",
      "[15, 5, 9, 5, 7, 8, 9, 15, 10, 44, 3, '54', '15', '67', '32', '25', '48', '98', '44', '56']\n",
      "[10, 44, 3, 54]\n",
      "[15, 5, 9, 5, 7, 8, 9, 15, 44, 10, 54, 3, '15', '67', '32', '25', '48', '98', '44', '56']\n",
      "[10, 54, 3, 15]\n",
      "[15, 5, 9, 5, 7, 8, 9, 15, 44, 54, 10, 15, 3, '67', '32', '25', '48', '98', '44', '56']\n",
      "[10, 15, 3, 67]\n",
      "[15, 5, 9, 5, 7, 8, 9, 15, 44, 54, 15, 10, 67, 3, '32', '25', '48', '98', '44', '56']\n",
      "[10, 67, 3, 32]\n",
      "[15, 5, 9, 5, 7, 8, 9, 15, 44, 54, 15, 67, 10, 32, 3, '25', '48', '98', '44', '56']\n",
      "[10, 32, 3, 25]\n",
      "[15, 5, 9, 5, 7, 8, 9, 15, 44, 54, 15, 67, 32, 10, 25, 3, '48', '98', '44', '56']\n",
      "[10, 25, 3, 48]\n",
      "[15, 5, 9, 5, 7, 8, 9, 15, 44, 54, 15, 67, 32, 25, 10, 48, 3, '98', '44', '56']\n",
      "[10, 48, 3, 98]\n",
      "[15, 5, 9, 5, 7, 8, 9, 15, 44, 54, 15, 67, 32, 25, 48, 10, 98, 3, '44', '56']\n",
      "[10, 98, 3, 44]\n",
      "[15, 5, 9, 5, 7, 8, 9, 15, 44, 54, 15, 67, 32, 25, 48, 98, 10, 44, 3, '56']\n",
      "[10, 44, 3, 56]\n",
      "[15, 5, 9, 5, 7, 8, 9, 15, 44, 54, 15, 67, 32, 25, 48, 98, 44, 10, 56, 3]\n",
      "Wall time: 0 ns\n"
     ]
    },
    {
     "data": {
      "text/plain": [
       "[10, 48, 3, 98, 159]"
      ]
     },
     "execution_count": 32,
     "metadata": {},
     "output_type": "execute_result"
    }
   ],
   "source": [
    "%%time\n",
    "def ex17(x):\n",
    "    x1= x.split(\",\")\n",
    "    max1=0\n",
    "    resul=[]\n",
    "    for i in range(len(x1)-3):\n",
    "        \n",
    "\n",
    "        exp=[int(x1[i]),int(x1[i+1]),int(x1[i+2]),int(x1[i+3])]\n",
    "        sum1=sum(exp)\n",
    "        print(exp)\n",
    "        if sum1>max1:\n",
    "            max1=sum1\n",
    "            resul=[int(x1[i]),int(x1[i+1]),int(x1[i+2]),int(x1[i+3]),sum1]\n",
    "        x1[i]=exp[1]\n",
    "        x1[i+1]=exp[0]\n",
    "        x1[i+2]=exp[3]\n",
    "        x1[i+3]=exp[2]\n",
    "        print(x1)    \n",
    "    return(resul)\n",
    "\n",
    "ex17(\"10,15,3,5,9,5,7,8,9,15,44,54,15,67,32,25,48,98,44,56\")"
   ]
  },
  {
   "cell_type": "code",
   "execution_count": 17,
   "metadata": {},
   "outputs": [
    {
     "name": "stdout",
     "output_type": "stream",
     "text": [
      "Wall time: 0 ns\n"
     ]
    },
    {
     "data": {
      "text/plain": [
       "[48, 10, 98, 3, 159]"
      ]
     },
     "execution_count": 17,
     "metadata": {},
     "output_type": "execute_result"
    }
   ],
   "source": [
    "%%time\n",
    "def ex17_1(x):\n",
    "    x1= x.split(\",\")\n",
    "    max1=0\n",
    "    resul=[]\n",
    "    for i in range(len(x1)-3):\n",
    "        \n",
    "\n",
    "        exp=[int(x1[i]),int(x1[i+1]),int(x1[i+2]),int(x1[i+3])]\n",
    "        sum1=sum(exp)\n",
    "        x1[i],x1[i+1],x1[i+2],x1[i+3]=x1[i+1],x1[i],x1[i+3],x1[i+2]\n",
    "        if sum1>max1:\n",
    "            max1=sum1\n",
    "            resul=[int(x1[i]),int(x1[i+1]),int(x1[i+2]),int(x1[i+3]),sum1]\n",
    "         \n",
    "\n",
    "    return(resul)\n",
    "\n",
    "ex17_1(\"10,15,3,5,9,5,7,8,9,15,44,54,15,67,32,25,48,98,44,56\")"
   ]
  },
  {
   "cell_type": "code",
   "execution_count": 36,
   "metadata": {},
   "outputs": [
    {
     "name": "stdout",
     "output_type": "stream",
     "text": [
      "그때의 합은 159이고 숫자는 [10, 25, 3, 48]입니다.\n"
     ]
    }
   ],
   "source": [
    "num = [10,15,3,5,9,5,7,8,9,15,44,54,15,67,35,25,48,98,44,56]\n",
    "# num = [1,3,4,5,7,9,2,3,4,7]\n",
    "\n",
    "def gogo(num):\n",
    "    numlist = [[num[0],num[1],num[2],num[4]]]\n",
    "    for i in range(1,len(num)-3):\n",
    "        llist=[num[0],num[i+2], num[2],num[i+3]]\n",
    "        numlist.append(llist)\n",
    "    result = 0\n",
    "    for i in range(len(numlist)):\n",
    "        eachsum = sum(numlist[i])\n",
    "        if eachsum > result:\n",
    "            result = eachsum\n",
    "    return print(\"그때의 합은 {}이고 숫자는 {}입니다.\".format(result,numlist[i-3]))\n",
    "\n",
    "gogo(num)\n"
   ]
  },
  {
   "cell_type": "code",
   "execution_count": 28,
   "metadata": {},
   "outputs": [
    {
     "name": "stdout",
     "output_type": "stream",
     "text": [
      "10,15,3,5,9,5,7,8,9,15,44,54,15,67,32,25,48,98,44,56\n"
     ]
    }
   ],
   "source": [
    "x=\"10,15,3,5,9,5,7,8,9,15,44,54,15,67,32,25,48,98,44,56\"\n",
    "x1= x.split(\",\")\n",
    "print(x)"
   ]
  }
 ],
 "metadata": {
  "kernelspec": {
   "display_name": "[CPU_ENV]",
   "language": "python",
   "name": "cpu_env"
  },
  "language_info": {
   "codemirror_mode": {
    "name": "ipython",
    "version": 3
   },
   "file_extension": ".py",
   "mimetype": "text/x-python",
   "name": "python",
   "nbconvert_exporter": "python",
   "pygments_lexer": "ipython3",
   "version": "3.6.9"
  }
 },
 "nbformat": 4,
 "nbformat_minor": 2
}
