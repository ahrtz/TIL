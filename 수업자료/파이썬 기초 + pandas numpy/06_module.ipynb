{
 "cells": [
  {
   "cell_type": "code",
   "execution_count": 1,
   "metadata": {},
   "outputs": [],
   "source": [
    "## python 은 모듈이 있다. \n",
    "## module 하나의 python 파일 \n",
    "## 변수 함수 class 가 들어있다\n",
    "\n",
    "## python의 모듈은 다른 파이썬 프로그램에서 불러와 사용할 수 있는 \n",
    "## 파이썬 파일을 지칭한다\n",
    "\n",
    "## 우리가 생성한 모듈을 어디에다 저장해 놔야 할까요 \n",
    "\n",
    "import sys # sys라는 모듈을 불러와서 사용할 거 \n",
    "sys.path.append(\"C:/python_Lib\")\n",
    "\n",
    "# 아니면 환경변수 PYTHONPATH 라는걸 만들어서 여기에 module을 넣어놓으면\n",
    "# 어디에서든지 사용할 수 있다. \n"
   ]
  },
  {
   "cell_type": "code",
   "execution_count": 7,
   "metadata": {},
   "outputs": [
    {
     "name": "stdout",
     "output_type": "stream",
     "text": [
      "3.141592\n",
      "40\n"
     ]
    }
   ],
   "source": [
    "## 모듈 사용해 보기 \n",
    "#import module1 as m   # 모듈 이름이 길면 이 방식을 통해 별명 설정  \n",
    "## 이 것을 alias를 이용하는 거라고 한다\n",
    "\n",
    "#print(module1.module_Pi)\n",
    "\n",
    "#module1.mySum(3,8)\n",
    "#print(module1.mySum(3,8))\n",
    "#print(m.mySum(33,8))\n",
    "\n",
    "# from 모듈이름 import 모듈 함수 혹은 변수　혹은　클래스  ＝＝＞　이　방식으로　사용도　가능\n",
    "#from module1 import module_Pi\n",
    "from module1 import * # 더 편하게 사용할 수 있다.\n",
    "print(module_Pi) # 이미 불러 왔기 때문에 괜찮다. \n",
    "print(mySum(5,35))"
   ]
  },
  {
   "cell_type": "code",
   "execution_count": 8,
   "metadata": {},
   "outputs": [
    {
     "name": "stdout",
     "output_type": "stream",
     "text": [
      "3.141592\n"
     ]
    }
   ],
   "source": [
    "# package는?    => \".\" 기호를 이용해서 module을 계층적으로 관리 \n",
    "# 패키지가 없으면 파일 단위로 들고 다녀야 한다. \n",
    "# 패키지는 우리 눈으로 확인할때는 => 폴더로 표현\n",
    "# 모듈을 묶어서 들고다니는 가방이라고 생각하면댐 \n",
    "# A.B 라고 할때 A:package 가 되고 B : 모듈이 된다.\n",
    "\n",
    "import myPackage.module1\n",
    "print(myPackage.module1.module_Pi)\n",
    "\n",
    "#from myPackage import module1\n",
    "print(module1.module_Pi)\n",
    "#from myPackage.module1 import *"
   ]
  }
 ],
 "metadata": {
  "kernelspec": {
   "display_name": "[CPU_ENV]",
   "language": "python",
   "name": "cpu_env"
  },
  "language_info": {
   "codemirror_mode": {
    "name": "ipython",
    "version": 3
   },
   "file_extension": ".py",
   "mimetype": "text/x-python",
   "name": "python",
   "nbconvert_exporter": "python",
   "pygments_lexer": "ipython3",
   "version": "3.6.9"
  }
 },
 "nbformat": 4,
 "nbformat_minor": 2
}
