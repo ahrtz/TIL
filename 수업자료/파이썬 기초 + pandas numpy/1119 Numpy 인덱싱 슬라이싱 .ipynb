{
 "cells": [
  {
   "cell_type": "code",
   "execution_count": 5,
   "metadata": {},
   "outputs": [
    {
     "name": "stdout",
     "output_type": "stream",
     "text": [
      "데이터는 10\n",
      "데이터는 11\n",
      "데이터는 12\n",
      "데이터는 13\n",
      "데이터는 14\n",
      "데이터는 15\n",
      "데이터는 16\n",
      "데이터는 17\n",
      "데이터는 18\n",
      "데이터는 19\n",
      "index : 0 data :10\n",
      "index : 1 data :11\n",
      "index : 2 data :12\n",
      "index : 3 data :13\n",
      "index : 4 data :14\n",
      "index : 5 data :15\n",
      "index : 6 data :16\n",
      "index : 7 data :17\n",
      "index : 8 data :18\n",
      "index : 9 data :19\n"
     ]
    }
   ],
   "source": [
    "import numpy as np \n",
    "arr = np.arange(10,20,1)\n",
    "\n",
    "for i in arr: # 데이터만 추출하는 for\n",
    "    print (\"데이터는 {}\".format(i))\n",
    "for idx,data in enumerate(arr):    # 인덱스 뽑아내기 \n",
    "    print(\"index : {} data :{}\".format(idx,data))"
   ]
  },
  {
   "cell_type": "code",
   "execution_count": 39,
   "metadata": {},
   "outputs": [
    {
     "name": "stdout",
     "output_type": "stream",
     "text": [
      "[5]\n",
      "[1 2]\n",
      "[1 3 5]\n",
      "[[ 0  1  2  3]\n",
      " [ 4  5  6  7]\n",
      " [ 8  9 10 11]]\n",
      "6\n",
      "[0 4 8]\n",
      "[[0]\n",
      " [4]\n",
      " [8]]\n",
      "[ 5  6  9 10]\n"
     ]
    }
   ],
   "source": [
    "## 슬라이싱 ----> 이건 인덱싱이 아니다 nparray로 output이 나온다 \n",
    "arr = np.arange(0,6,1)\n",
    "print(arr[-1:]) # 맨 마지막 요소만 슬라이싱\n",
    "print(arr[1:3])\n",
    "print(arr[1::2])\n",
    "\n",
    "arr = np.arange (0,12,1).reshape(3,4).copy()\n",
    "print (arr)\n",
    "print(arr[1,2])\n",
    "print(arr[:,0])   # 한개는 넘파이 어레이 한개는 인덱싱그래서 1차원\n",
    "print(arr[:,0:1]) # 두개다 슬라이싱 이니까 2차원 \n",
    "print(arr[1:3,1:3].ravel())"
   ]
  },
  {
   "cell_type": "code",
   "execution_count": 90,
   "metadata": {},
   "outputs": [
    {
     "name": "stdout",
     "output_type": "stream",
     "text": [
      "[8 8 8 0 6]\n",
      "[ True False  True  True  True False False False False  True]\n",
      "[[ 0  1  2  3]\n",
      " [ 4  5  6  7]\n",
      " [ 8  9 10 11]]\n",
      "10\n",
      "[6]\n",
      "[[ 1  2  3]\n",
      " [ 9 10 11]]\n",
      "[ 5 10]\n",
      "[[ 5  6]\n",
      " [ 9 10]]\n",
      "[[ 5  6]\n",
      " [ 9 10]]\n",
      "[[ 5  6]\n",
      " [ 9 10]]\n"
     ]
    }
   ],
   "source": [
    "# Boolean indexing & Fancy indexing \n",
    "# 불리안 인덱싱은 mask를 이용해서 배열 각 요소의 선택여부를 True or False 로 지정해서 True 요소만 선택하는 방식\n",
    "np.random.seed(3)\n",
    "arr = np.random.randint(0,9,(10,))\n",
    "#print(arr)\n",
    "\n",
    "# 짝수만 추출해보기\n",
    "print(arr[arr %2==0])\n",
    "# 레퍼런스 \n",
    "# 조건에 맞는 마스크를 만들어 \n",
    "print(arr%2==0)\n",
    "\n",
    "#Fancy indexing \n",
    "# indexing 할때 배열을 이용해서 배열 요소를 찾는 방식\n",
    "\n",
    "arr = np.arange(0,12,1).reshape(3,4).copy()\n",
    "print(arr)\n",
    "print(arr[2,2]) #인덱싱\n",
    "print(arr[1:2,2]) # 슬라이싱\n",
    "\n",
    "print(arr[[0,2],1:]) # 0행과 2행 두개를 지칭 \n",
    "print(arr[[1,2],[1,2]]) # 1행 1열과 2행2열을 뽑는다\n",
    "# 5 6 9 10 뽑으려면?\n",
    "print(arr[[1,2],1:3])   # 하나는 팬시하고 하나는 슬라이싱 해야 댄다 \n",
    "# 굳이 하자면?\n",
    "print(arr[[1,2]][:,[1,2]]) # 앞쪽에서 인덱싱 한걸 다시 인덱싱\n",
    "# 방법 2 \n",
    "print(arr[np.ix_([1,2],[1,2])]) "
   ]
  },
  {
   "cell_type": "code",
   "execution_count": 99,
   "metadata": {},
   "outputs": [
    {
     "name": "stdout",
     "output_type": "stream",
     "text": [
      "[[1 2 3]\n",
      " [4 5 6]]\n",
      "[[6 9 6]\n",
      " [1 1 2]]\n",
      "[[ 7 11  9]\n",
      " [ 5  6  8]]\n",
      "[[ 6 18 18]\n",
      " [ 4  5 12]]\n",
      "[[11 12 13]\n",
      " [14 15 16]]\n",
      "[[2 4 6]\n",
      " [5 7 9]]\n"
     ]
    },
    {
     "ename": "ValueError",
     "evalue": "operands could not be broadcast together with shapes (2,3) (2,) ",
     "output_type": "error",
     "traceback": [
      "\u001b[1;31m---------------------------------------------------------------------------\u001b[0m",
      "\u001b[1;31mValueError\u001b[0m                                Traceback (most recent call last)",
      "\u001b[1;32m<ipython-input-99-287d789ac810>\u001b[0m in \u001b[0;36m<module>\u001b[1;34m\u001b[0m\n\u001b[0;32m     16\u001b[0m \u001b[1;31m## 브로드캐스팅 안되는 형태일경우 에러\u001b[0m\u001b[1;33m\u001b[0m\u001b[1;33m\u001b[0m\u001b[1;33m\u001b[0m\u001b[0m\n\u001b[0;32m     17\u001b[0m \u001b[0marr4\u001b[0m \u001b[1;33m=\u001b[0m \u001b[0mnp\u001b[0m\u001b[1;33m.\u001b[0m\u001b[0marray\u001b[0m\u001b[1;33m(\u001b[0m\u001b[1;33m[\u001b[0m\u001b[1;36m1\u001b[0m\u001b[1;33m,\u001b[0m\u001b[1;36m2\u001b[0m\u001b[1;33m]\u001b[0m\u001b[1;33m)\u001b[0m\u001b[1;33m\u001b[0m\u001b[1;33m\u001b[0m\u001b[0m\n\u001b[1;32m---> 18\u001b[1;33m \u001b[0mprint\u001b[0m\u001b[1;33m(\u001b[0m\u001b[0marr1\u001b[0m\u001b[1;33m+\u001b[0m\u001b[0marr4\u001b[0m\u001b[1;33m)\u001b[0m\u001b[1;33m\u001b[0m\u001b[1;33m\u001b[0m\u001b[0m\n\u001b[0m",
      "\u001b[1;31mValueError\u001b[0m: operands could not be broadcast together with shapes (2,3) (2,) "
     ]
    }
   ],
   "source": [
    "# array 의 연산\n",
    "# 벡터의 연산과 비슷 \n",
    "np.random.seed(1)\n",
    "arr1= np.arange(1,7,1).reshape(2,3).copy()\n",
    "arr2=np.random.randint(1,10,(2,3))\n",
    "print(arr1)\n",
    "print(arr2)\n",
    "\n",
    "print(arr1+arr2)\n",
    "print(arr1*arr2)\n",
    "print(arr1+10) # 원래는 타입이 안맞아서 안되야 한다 \n",
    "                # 그런데 이경우 스칼라를 broadcasting 시켜서 진행한다. \n",
    "                # 브로드캐스팅이랑? 주어진 어레이에 맞춰서 행과 열을 늘려준다. 넘파이에서 가능 \n",
    "arr3 = np.array([1,2,3])\n",
    "print(arr1+arr3) # arr3이 브로드캐스팅 되엇다. \n",
    "## 브로드캐스팅 안되는 형태일경우 에러 \n",
    "arr4 = np.array([1,2])\n",
    "#print(arr1+arr4)"
   ]
  }
 ],
 "metadata": {
  "kernelspec": {
   "display_name": "[CPU_ENV]",
   "language": "python",
   "name": "cpu_env"
  },
  "language_info": {
   "codemirror_mode": {
    "name": "ipython",
    "version": 3
   },
   "file_extension": ".py",
   "mimetype": "text/x-python",
   "name": "python",
   "nbconvert_exporter": "python",
   "pygments_lexer": "ipython3",
   "version": "3.6.9"
  }
 },
 "nbformat": 4,
 "nbformat_minor": 2
}
