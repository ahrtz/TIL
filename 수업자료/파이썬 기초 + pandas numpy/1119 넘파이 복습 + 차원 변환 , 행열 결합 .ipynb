{
 "cells": [
  {
   "cell_type": "code",
   "execution_count": 35,
   "metadata": {},
   "outputs": [
    {
     "name": "stdout",
     "output_type": "stream",
     "text": [
      "<class 'numpy.ndarray'>\n",
      "2\n",
      "(3, 2)\n",
      "6\n",
      "3\n",
      "[[12. 34.]\n",
      " [ 1.  2.]]\n",
      "[[0. 0.]\n",
      " [0. 0.]]\n",
      "[[1. 0. 0.]\n",
      " [0. 1. 0.]\n",
      " [0. 0. 1.]]\n",
      "[[1.]\n",
      " [1.]]\n"
     ]
    },
    {
     "data": {
      "text/plain": [
       "array([0, 1, 2, 3, 4, 5, 6, 7])"
      ]
     },
     "execution_count": 35,
     "metadata": {},
     "output_type": "execute_result"
    }
   ],
   "source": [
    "## 11월 19일 \n",
    "## 넘파이 (numerical python)\n",
    "## nd array라는 자료 구조를 사용한다. \n",
    "\n",
    "# array 연속적으로 할당되는 같은 데이터 타입의 데이터를 저장할 수 있는 구조 \n",
    "\n",
    "import numpy as np \n",
    "\n",
    "arr = np.array([[1,2],[12,34],[1,4]])# 인자로는 리스트 혹은 튜플을 넣어준다\n",
    "\n",
    "\n",
    "# python 에서 빌트 인 타입 \n",
    "## int float bool str list tuple dict set \n",
    "## => 이 데이터 타입이라고 알고 있던 것들이 실제로는 \n",
    "## int 라는 클래스로 존재  타입 함수로 클래스를 알아보자 \n",
    "print ( type(arr))\n",
    "print(arr.ndim) ## 차원의 수 \n",
    "print(arr.shape)  ## 차원수 각 차원당 원소의 수 \n",
    "#arr.reshape(1,4) # 이 방법을 이용하자 shape는 되도록 이용 ㄴ\n",
    "\n",
    "\n",
    "print(arr.size) ## 전체 원소의 개수 \n",
    "print(len(arr)) # 1차원의 갯수 예제는 보면 3개가 잇는거 제일 큰 괄호 안에 있는것 \n",
    "myList=([[12,34],[1,2]])\n",
    "arr1 = np.array(myList,dtype= np.float64)\n",
    "print(arr1)\n",
    "\n",
    "\n",
    "# 다양한 생성방법 \n",
    "arr = np.zeros([2,2])\n",
    "print(arr)\n",
    "print(np.eye(3))\n",
    "print(np.ones([2,1]))\n",
    "## zeros ones empty full \n",
    "np.arange(0,8,1)\n",
    "## arange ,np.linspace\n",
    "\n",
    "# random 기반의 함수들  => 4가지 \n",
    "\n"
   ]
  },
  {
   "cell_type": "code",
   "execution_count": 57,
   "metadata": {},
   "outputs": [
    {
     "name": "stdout",
     "output_type": "stream",
     "text": [
      "[[ 1  2  3]\n",
      " [ 4  5  6]\n",
      " [ 7  8  9]\n",
      " [10 11 12]]\n",
      "[  1 100   3   4   5   6   7   8   9  10  11  12]\n",
      "9\n",
      "[  1 100   3   4   5   6   7   8 452  10  11  12]\n",
      "[[  1 100   3]\n",
      " [  4   5   6]\n",
      " [  7   8 452]\n",
      " [ 10  11  12]]\n",
      "True\n",
      "[ True  True  True  True  True  True  True  True  True  True  True  True]\n"
     ]
    }
   ],
   "source": [
    "# 넘파이 \n",
    "## shape 조절해서 내가 원하는 형태의 어레이로 만들어보세요 \n",
    "import numpy as np \n",
    "arr = np.arange(1,13,1)\n",
    "arr1 = arr.reshape(4,3)\n",
    "print((arr1))\n",
    "## reshape 이용 하면 view가 만들어진다. \n",
    "## 데이터를 그냥 4 행 3열로 보겟다ㅣ는거지 데이터를 바꾼것이 아니다. \n",
    "arr[1]=100\n",
    "print(arr)\n",
    "print((arr1[2][2])) ## 그렇기 때문에 원본이 바뀌면 뷰도 바뀐다.\n",
    "arr1[2][2] = 452\n",
    "print(arr)\n",
    "print((arr1))         ## 뷰를 바꿔도 원본이 바뀌는 것이다 .그냥 틀이기 때문 \n",
    "print(arr1.base is arr) # 원본이냐? \n",
    "print(arr1.base == arr)  # 각각의 칸끼리 비교한다 각각의 요소 끼리 "
   ]
  },
  {
   "cell_type": "code",
   "execution_count": 73,
   "metadata": {},
   "outputs": [
    {
     "name": "stdout",
     "output_type": "stream",
     "text": [
      "[[ 0  1  2  3  4  5  6  7  8  9 10 11 12 13 14 15 16 17 18 19]\n",
      " [20 21 22 23 24 25 26 27 28 29 30 31 32 33 34 35 36 37 38 39]\n",
      " [40 41 42 43 44 45 46 47 48 49 50 51 52 53 54 55 56 57 58 59]\n",
      " [60 61 62 63 64 65 66 67 68 69 70 71 72 73 74 75 76 77 78 79]\n",
      " [80 81 82 83 84 85 86 87 88 89 90 91 92 93 94 95 96 97 98 99]]\n",
      "[ 0  1  2  3  4  5  6  7  8  9 10 11 12 13 14 15 16 17 18 19 20 21 22 23\n",
      " 24 25 26 27 28 29 30 31 32 33 34 35 36 37 38 39 40 41 42 43 44 45 46 47\n",
      " 48 49 50 51 52 53 54 55 56 57 58 59 60 61 62 63 64 65 66 67 68 69 70 71\n",
      " 72 73 74 75 76 77 78 79 80 81 82 83 84 85 86 87 88 89 90 91 92 93 94 95\n",
      " 96 97 98 99]\n"
     ]
    }
   ],
   "source": [
    "arr = np.arange(0,12,1)\n",
    "#print(arr)\n",
    "arr1 = arr.reshape(4,3).copy()    # 새로운 어레이를 생성\n",
    "#print (arr1)\n",
    "\n",
    "#arr2 = arr.reshape(5,3)  ## 에러 형태가 맞지않음\n",
    "arr2 = arr.reshape(2,-1)   ## -1 은 앞에 채우고 나머지 다 뒤로 밀어넣어 라는 의미임  자동 채움 \n",
    "#print(arr2)\n",
    "arr3 = arr.reshape(-1,3)    ## -1 은 자동 계산 \n",
    "#print(arr3)\n",
    "################################################################ 다차원을 1차원으로 \n",
    "arr4 = np.arange(0,100,1).reshape(5,-1).copy()\n",
    "print(arr4)\n",
    "arr5= np.ravel(arr4)     ##########다차원을 1차원으로 만드는 함수 \n",
    "print (arr5)\n",
    "\n"
   ]
  },
  {
   "cell_type": "code",
   "execution_count": 85,
   "metadata": {},
   "outputs": [
    {
     "name": "stdout",
     "output_type": "stream",
     "text": [
      "[[0 1 2]\n",
      " [3 4 5]]\n"
     ]
    }
   ],
   "source": [
    "# resize 함수 reshape 과 상당히 유사 \n",
    "## reshape 은 형태가 맞지 않으면 변경시 에러가 난다\n",
    "# 리 사이즈는 안남\n",
    "\n",
    "arr= np.arange(0,10,1)\n",
    "\n",
    "# resize 를 이용하는 첫번째 방법 \n",
    "#np.resize(arr,(8,2))   # 범위가 넘어가는 것은 처음부터 반복\n",
    "                        # 변경값을 리턴 해줌  원본은 변경없음\n",
    "\n",
    "arr= np.arange(0,10,1) # 원본을 바꾸고 싶다\n",
    "result = arr.resize(2,3)   # 원본이 바뀌지 리턴되지 않는다.\n",
    "print(arr)\n",
    "\n"
   ]
  },
  {
   "cell_type": "code",
   "execution_count": 124,
   "metadata": {},
   "outputs": [
    {
     "name": "stdout",
     "output_type": "stream",
     "text": [
      "[[10  8  9]\n",
      " [ 3  8  8]]\n",
      "[[0 5 3]\n",
      " [9 9 5]]\n",
      "[[0]\n",
      " [9]]\n"
     ]
    }
   ],
   "source": [
    "# numpy array 를 가로 혹은 세로 방향으로 붙여보자 \n",
    "## 2행 3열 짜리 ndarray 를 생성 정수로 생성 랜덤하게  균등분포 0에서 10사이\n",
    "np.random.seed(3)\n",
    "arr= np.random.randint(0,11,(2,3))\n",
    "print(arr)\n",
    "# 가로방향으로 결합 \n",
    "# 행의개수가 같아야 합니다.\n",
    "arr1= np.random.randint(0,10,(2,3))\n",
    "print(arr1)\n",
    "np.hstack((arr,arr1))  # 옆으로 붙이기    행결합\n",
    "np.vstack((arr,arr1))  # 위로 붙이기    열결합 \n",
    "print(arr1[0:2,0:1])"
   ]
  }
 ],
 "metadata": {
  "kernelspec": {
   "display_name": "[CPU_ENV]",
   "language": "python",
   "name": "cpu_env"
  },
  "language_info": {
   "codemirror_mode": {
    "name": "ipython",
    "version": 3
   },
   "file_extension": ".py",
   "mimetype": "text/x-python",
   "name": "python",
   "nbconvert_exporter": "python",
   "pygments_lexer": "ipython3",
   "version": "3.6.9"
  }
 },
 "nbformat": 4,
 "nbformat_minor": 2
}
