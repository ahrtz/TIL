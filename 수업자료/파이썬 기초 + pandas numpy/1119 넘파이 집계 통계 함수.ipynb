{
 "cells": [
  {
   "cell_type": "code",
   "execution_count": 13,
   "metadata": {},
   "outputs": [
    {
     "name": "stdout",
     "output_type": "stream",
     "text": [
      "[[ 0  1  2  3]\n",
      " [ 4  5  6  7]\n",
      " [ 8  9 10 11]]\n",
      "66\n",
      "66\n",
      "[ 0  1  3  6 10 15 21 28 36 45 55 66]\n",
      "11\n",
      "5.5\n",
      "0\n",
      "3.452052529534663\n",
      "[[0.         1.         1.41421356 1.73205081]\n",
      " [2.         2.23606798 2.44948974 2.64575131]\n",
      " [2.82842712 3.         3.16227766 3.31662479]]\n",
      "[[      -inf 0.         0.69314718 1.09861229]\n",
      " [1.38629436 1.60943791 1.79175947 1.94591015]\n",
      " [2.07944154 2.19722458 2.30258509 2.39789527]]\n",
      "[[      -inf 0.         0.30103    0.47712125]\n",
      " [0.60205999 0.69897    0.77815125 0.84509804]\n",
      " [0.90308999 0.95424251 1.         1.04139269]]\n"
     ]
    },
    {
     "name": "stderr",
     "output_type": "stream",
     "text": [
      "C:\\Users\\student\\Anaconda3\\envs\\CPU_ENV\\lib\\site-packages\\ipykernel_launcher.py:13: RuntimeWarning: divide by zero encountered in log\n",
      "  del sys.path[0]\n",
      "C:\\Users\\student\\Anaconda3\\envs\\CPU_ENV\\lib\\site-packages\\ipykernel_launcher.py:14: RuntimeWarning: divide by zero encountered in log10\n",
      "  \n"
     ]
    }
   ],
   "source": [
    "## 기본적인 집계 함수 \n",
    "import numpy as np\n",
    "arr = np.arange(0,12,1).reshape(3,4).copy()\n",
    "print(arr)\n",
    "print(np.sum(arr))\n",
    "print(arr.sum())\n",
    "print(np.cumsum(arr)) ## 누적시켜서 한개의 항씩 표현 \n",
    "print(np.max(arr))\n",
    "print(np.mean(arr))\n",
    "print(np.min(arr))\n",
    "print(np.std(arr))\n",
    "print(np.sqrt(arr))\n",
    "print(np.log(arr))\n",
    "print(np.log10(arr))"
   ]
  },
  {
   "cell_type": "code",
   "execution_count": 30,
   "metadata": {},
   "outputs": [
    {
     "name": "stdout",
     "output_type": "stream",
     "text": [
      "[1 2 3 4 5 6 7 8 9]\n",
      "45\n",
      "[[1 2 3]\n",
      " [4 5 6]\n",
      " [7 8 9]]\n",
      "[12 15 18]\n",
      "[ 6 15 24]\n",
      "[[[ 0  1  2  3  4]\n",
      "  [ 5  6  7  8  9]]\n",
      "\n",
      " [[10 11 12 13 14]\n",
      "  [15 16 17 18 19]]]\n",
      "[[10 12 14 16 18]\n",
      " [20 22 24 26 28]]\n",
      "[[ 5  7  9 11 13]\n",
      " [25 27 29 31 33]]\n",
      "[[10 35]\n",
      " [60 85]]\n"
     ]
    }
   ],
   "source": [
    "# 축개념을 이해해 보자 \n",
    "# 위의 집계 합수를 이용할 때  axis개념을 사용한다.\n",
    "# 만약 axis를 명시하지 않으면 axis를 None 으로 설정하고 \n",
    "# 대상범위를 전체 어레이로 지정\n",
    "\n",
    "# 1차원 ndarray\n",
    "arr = np.arange(1,10,1)\n",
    "print(arr)\n",
    "print(arr.sum(axis = 0)) # axis 가 0 이면 -> 이 방향을 지칭한다.\n",
    "                        # axis 가 1이면 -> 행방향을 지칭한다\n",
    "\n",
    "#2차원 어레이    \n",
    "arr1 = arr.reshape(3,3).copy()\n",
    "print(arr1)\n",
    "print(arr1.sum(axis = 0))   # axis가 0 이면 열 고정 행의 합 (1행1열, 2행1열,3행1열) \n",
    "print(arr1.sum(axis = 1))   # axis가 1 이면 행 고정 열의 합 (1행1열,1행2열,1행 3열)\n",
    "\n",
    "# 3차원 어레이 \n",
    "arr2 = np.arange(0,20,1).reshape(2,2,5).copy()\n",
    "print(arr2)\n",
    "print(arr2.sum(axis = 0))   # 행 열 고정 차원의 합 \n",
    "print(arr2.sum(axis = 1))   # 차원 고정 열 고정 행의 합 \n",
    "print(arr2.sum(axis = 2))   # 차원고정 행고정 열의 합"
   ]
  },
  {
   "cell_type": "code",
   "execution_count": 48,
   "metadata": {},
   "outputs": [
    {
     "name": "stdout",
     "output_type": "stream",
     "text": [
      "[[6 9 6 1 1]\n",
      " [2 8 7 3 5]]\n",
      "5\n",
      "5\n",
      "[6 9 6 1 1]\n"
     ]
    }
   ],
   "source": [
    "## 응용 \n",
    "np.random.seed(1)\n",
    "arr = np.random.randint(1,10,(2,5))\n",
    "print(arr)\n",
    "print(len(arr[arr>5]))    # 곰같은 우직한 새끼 맨날 하던것만 해 \n",
    "print((arr>5).sum())     # 마스크 이용하는 섹시한 방법 \n",
    "arr[arr>5].size         # 불리안 인덱싱 이용 하는 섹시한 방법\n",
    "\n"
   ]
  },
  {
   "cell_type": "code",
   "execution_count": 47,
   "metadata": {},
   "outputs": [
    {
     "name": "stdout",
     "output_type": "stream",
     "text": [
      "[[ 0  1  2  3]\n",
      " [ 4  5  6  7]\n",
      " [ 8  9 10 11]]\n",
      "[[ 0  2  3]\n",
      " [ 4  6  7]\n",
      " [ 8 10 11]]\n"
     ]
    }
   ],
   "source": [
    "# Delete( ) 함수는 axis를 기준으로 행과 열을 삭제 \n",
    "# axis를 지정하지 않으면 1차배열로 변환한 후 해당 요소를 삭제 \n",
    "# 원본은 유지; 하고 삭제된 복사본을 리턴\n",
    "\n",
    "arr= np.arange(0,12,1).reshape(3,4).copy()\n",
    "print(arr)\n",
    "# axis를 지정하지 않고 delete\n",
    "result = np.delete(arr,1)   # 1차 배열로 변환햇다아  그다음에 원소가 1인것만 지운다 \n",
    "\n",
    "result = np.delete(arr,1,axis=0)  # 1번 행을 삭제\n",
    "\n",
    "result = np.delete(arr,1,axis=1)   # 1번 열을 삭제 \n",
    "print(result)\n",
    "# 느낌이 그럼 3차원이면 0일경우 차원 삭제 1일경우 행 2일경우 열 --> 가설 검증완료  사실임\n"
   ]
  }
 ],
 "metadata": {
  "kernelspec": {
   "display_name": "[CPU_ENV]",
   "language": "python",
   "name": "cpu_env"
  },
  "language_info": {
   "codemirror_mode": {
    "name": "ipython",
    "version": 3
   },
   "file_extension": ".py",
   "mimetype": "text/x-python",
   "name": "python",
   "nbconvert_exporter": "python",
   "pygments_lexer": "ipython3",
   "version": "3.6.9"
  }
 },
 "nbformat": 4,
 "nbformat_minor": 2
}
