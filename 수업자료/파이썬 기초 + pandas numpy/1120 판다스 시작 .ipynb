{
 "cells": [
  {
   "cell_type": "code",
   "execution_count": 3,
   "metadata": {},
   "outputs": [],
   "source": [
    "# 판다스는 파이썬으로 데이터 분석을 하기 위한 최적의 모듈 \n",
    "# 판다스는 새로 정의된 2가지 데이터 타입을 사용한다. \n",
    "\n",
    "# Series : 넘파이의 1차원 어레이와 상당히 유사 (다른 거임)  - 같은 데이터 타입만 들어온다   \n",
    "# DAtaframe : 시리즈를 모아서 테이블 형태로 구성한 자료구조 \n",
    "\n",
    "# 넘파이 어레이 모아서 시리즈 만들고 모아서 데이타 프레임 만들고 \n",
    "# 판다스를 이용하기 위해선 모듈 설치부터 \n",
    "# conda install pandas\n",
    "\n",
    "import pandas as pd \n",
    "import numpy as np\n",
    "\n"
   ]
  },
  {
   "cell_type": "code",
   "execution_count": 15,
   "metadata": {},
   "outputs": [
    {
     "name": "stdout",
     "output_type": "stream",
     "text": [
      "object\n",
      "<class 'float'>\n"
     ]
    }
   ],
   "source": [
    "# Series 를 생성해 보자 \n",
    "# numpy array 와 비교\n",
    "\n",
    "# 먼저 ndarray\n",
    "arr = np.array([-1,5,8,10], dtype = np.float)# 이것도 되네? 원래는 dtype = np.float64,dtype = \"np.float64\"\n",
    "arr = np.array([-1,5,3.14,\"hello\"] ,dtype = np.object) # 왜인지 그냥 object도 된다 \n",
    "                                                    # 안에 들어가는거 자체가 전부다 객체다 보니 객체로 저장이 가능해 \n",
    "                                                    # 결국 객체라는 클래스로 다 같자나? \n",
    "        \n",
    "print(arr.dtype)\n",
    "print(type(arr[2]))\n"
   ]
  },
  {
   "cell_type": "code",
   "execution_count": 38,
   "metadata": {},
   "outputs": [
    {
     "name": "stdout",
     "output_type": "stream",
     "text": [
      "0       -1\n",
      "1        5\n",
      "2     3.14\n",
      "3    hello\n",
      "dtype: object\n",
      "******************************\n",
      "[-1 5 3.14 'hello']\n",
      "<class 'numpy.ndarray'>\n",
      "object\n",
      "object\n",
      "******************************\n",
      "RangeIndex(start=0, stop=4, step=1)\n",
      "<class 'pandas.core.indexes.range.RangeIndex'>\n"
     ]
    }
   ],
   "source": [
    "## series\n",
    "s = pd.Series([-1,5,3.14,\"hello\"],dtype = np.object)\n",
    "print(s)\n",
    "print(\"*\"*30)\n",
    "#1. Series 의 value 부분을 출력해보자아\n",
    "print(s.values)    ## 이거 넘파이 어레이와 똑같이 생겼다?\n",
    "print(type(s.values))  ## 똑같다 \n",
    "\n",
    "#2. Seires 의 Dtype\n",
    "print(s.values.dtype)\n",
    "print(s.dtype)\n",
    "print(\"*\"*30)\n",
    "\n",
    "#3 Series의 index부분 출력 \n",
    "\n",
    "print(s.index)\n",
    "print(type(s.index))  # 인덱스 만을 위한 판다스가 만든 객체 \n"
   ]
  },
  {
   "cell_type": "code",
   "execution_count": 46,
   "metadata": {},
   "outputs": [
    {
     "name": "stdout",
     "output_type": "stream",
     "text": [
      "a       -1\n",
      "b        5\n",
      "a     3.14\n",
      "d    hello\n",
      "dtype: object\n",
      "5\n",
      "a      -1\n",
      "a    3.14\n",
      "dtype: object\n"
     ]
    }
   ],
   "source": [
    "## Series 는 인덱스를 따로 지정 할 수 있다. \n",
    "s = pd.Series([-1,5,3.14,\"hello\"],dtype = np.object,\n",
    "             index=[\"a\",\"b\",\"a\",\"d\"])\n",
    "print(s)\n",
    "print(s[1])\n",
    "print(s[\"a\"]) # 새로 지정한 인덱스를 이용해서 값을 access 가능\n",
    "              # 만약 찾으려는 index가 2개 이상 존재할 경우 그 결과가 series로 return "
   ]
  },
  {
   "cell_type": "code",
   "execution_count": 55,
   "metadata": {},
   "outputs": [
    {
     "name": "stdout",
     "output_type": "stream",
     "text": [
      "a    -1\n",
      "b     5\n",
      "dtype: object\n",
      "a    -1\n",
      "b     5\n",
      "c     8\n",
      "d    10\n",
      "dtype: object\n",
      "c     8\n",
      "d    10\n",
      "dtype: object\n",
      "a    -1\n",
      "c     8\n",
      "dtype: object\n",
      "22\n",
      "22\n"
     ]
    }
   ],
   "source": [
    "s = pd.Series([-1,5,8,10],dtype = np.object,\n",
    "             index=[\"a\",\"b\",\"c\",\"d\"])\n",
    "#ndarray 에서 인덱싱도 사용할수 있고 슬라이싱도 됫었다. \n",
    "# 씨리즈도 당연히 가능합니다. \n",
    "print(s[0:2])       ## 여기선 2는 미포함\n",
    "print(s[\"a\":\"d\"])   ## 이거에선 전부다 포함\n",
    "print(s[s%2==0])    ## 불리언 인덱싱도 가능 \n",
    "print(s[[0,2]])     ## fancy indexing 도 가능 \n",
    "print(sum(s))\n",
    "print(s.sum())      ## 집계함수 그대로 사용 가능 \n",
    "\n"
   ]
  },
  {
   "cell_type": "code",
   "execution_count": 72,
   "metadata": {},
   "outputs": [
    {
     "name": "stdout",
     "output_type": "stream",
     "text": [
      "[2, 4, 6, 8]\n",
      "[8]\n",
      "{'stu0': 0, 'stu1': 1, 'stu2': 4, 'stu3': 9, 'stu4': 16, 'stu5': 25, 'stu6': 36, 'stu7': 49, 'stu8': 64, 'stu9': 81}\n"
     ]
    }
   ],
   "source": [
    "## for 문 \n",
    "## for 문을 list를 만들때 사용할 수 있다. \n",
    "myList=[1,2,3,4]\n",
    "res = []\n",
    "for i in myList:\n",
    "    res.append(i*2)\n",
    "print(res)\n",
    "\n",
    "result = [x*2 for x in myList if x>3]    ## 리스트 안에서 조건 돌리기 for 과 if 가능 \n",
    "print(result)\n",
    "## dict에도 사용 가능 \n",
    "resul={\"stu\"+str(x):x**2 for x in range(0,10) }\n",
    "print(resul)"
   ]
  },
  {
   "cell_type": "code",
   "execution_count": 123,
   "metadata": {},
   "outputs": [
    {
     "name": "stdout",
     "output_type": "stream",
     "text": [
      "2019-11-20\n",
      "2019-10-20\n"
     ]
    }
   ],
   "source": [
    "## 많이 사용하는 데이터 타입중 날짜가 있다.\n",
    "from datetime import date,datetime,timedelta\n",
    "from dateutil.relativedelta import relativedelta\n",
    "\n",
    "\n",
    "## 오늘 날짜를 구해보자 \n",
    "today=date.today()\n",
    "# print(today.year)\n",
    "# print(type(today))\n",
    "# today1=datetime.today()\n",
    "# print(today1)\n",
    "# print(today1.second)\n",
    "# print(today1.microsecond)\n",
    "# day = timedelta(days=-1) # 델타값이 날자를 기준으로 하루전 ## hours 는 되는데 연도랑 월은 안된다\n",
    "# today +day \n",
    "\n",
    "today1=datetime.today()\n",
    "print(today)\n",
    "day= relativedelta(months=-1)\n",
    "result = today +day\n",
    "print(result)\n",
    "\n",
    "\n",
    "## "
   ]
  },
  {
   "cell_type": "code",
   "execution_count": 138,
   "metadata": {},
   "outputs": [
    {
     "name": "stdout",
     "output_type": "stream",
     "text": [
      "2019-11-20 11:17:34.175159\n",
      "2019-02-28 00:00:00\n"
     ]
    }
   ],
   "source": [
    "from datetime import date,datetime,timedelta\n",
    "from dateutil.relativedelta import relativedelta\n",
    "from dateutil.parser import parse\n",
    "\n",
    "today = parse(\"2019-03-31\")\n",
    "today1=datetime.today()\n",
    "print(today1)\n",
    "day= relativedelta(months=-1)\n",
    "result=today+day\n",
    "print(result)"
   ]
  },
  {
   "cell_type": "code",
   "execution_count": 140,
   "metadata": {},
   "outputs": [
    {
     "name": "stdout",
     "output_type": "stream",
     "text": [
      "서울     10000\n",
      "부산      2999\n",
      "제주    318498\n",
      "Name: 지역별 가격, dtype: int64\n"
     ]
    }
   ],
   "source": [
    "mydict = {\"서울\":10000,\"부산\":2999,\"제주\":318498}\n",
    "\n",
    "s= pd.Series(mydict)\n",
    "s.name = \"지역별 가격\"\n",
    "print(s)\n"
   ]
  },
  {
   "cell_type": "code",
   "execution_count": null,
   "metadata": {},
   "outputs": [],
   "source": []
  }
 ],
 "metadata": {
  "kernelspec": {
   "display_name": "[CPU_ENV]",
   "language": "python",
   "name": "cpu_env"
  },
  "language_info": {
   "codemirror_mode": {
    "name": "ipython",
    "version": 3
   },
   "file_extension": ".py",
   "mimetype": "text/x-python",
   "name": "python",
   "nbconvert_exporter": "python",
   "pygments_lexer": "ipython3",
   "version": "3.6.9"
  }
 },
 "nbformat": 4,
 "nbformat_minor": 2
}
