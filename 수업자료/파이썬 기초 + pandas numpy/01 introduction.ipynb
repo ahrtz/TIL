{
 "cells": [
  {
   "cell_type": "code",
   "execution_count": null,
   "metadata": {},
   "outputs": [],
   "source": [
    "# 주석처리...\n",
    "\n",
    "\"\"\"\n",
    "이안에 있는건 싹 다 주석\n",
    "쌍따옴표 세개 \n",
    "ctrl +s 자동 세이브 \n",
    "\n",
    "파이썬의 장점 \n",
    "    상대적으로 쉬운 언어\n",
    "    강력한 데이터 분석 library\n",
    "    open source\n",
    "    R에 비해 범용적인 사용이 가능\n",
    "    데이터 분석 결과를 다른 시스템과 연동 시킬때 좋다\n",
    "    하위 호환성은 존재하지 않음 2.x 와 3.x 버전이 다름\n",
    "    Pycharm 을 이용하거나 주피터 노트북을 이용해서 작업을함\n",
    "\n",
    "\"\"\""
   ]
  },
  {
   "cell_type": "code",
   "execution_count": 7,
   "metadata": {},
   "outputs": [
    {
     "name": "stdout",
     "output_type": "stream",
     "text": [
      "['False', 'None', 'True', 'and', 'as', 'assert', 'break', 'class', 'continue', 'def', 'del', 'elif', 'else', 'except', 'finally', 'for', 'from', 'global', 'if', 'import', 'in', 'is', 'lambda', 'nonlocal', 'not', 'or', 'pass', 'raise', 'return', 'try', 'while', 'with', 'yield']\n"
     ]
    }
   ],
   "source": [
    "# python 의 키워드 \n",
    "# 키워드 모듈을 로딩해야 한다.\n",
    "import keyword \n",
    "\n",
    "print(keyword.kwlist)"
   ]
  },
  {
   "cell_type": "code",
   "execution_count": 9,
   "metadata": {},
   "outputs": [
    {
     "data": {
      "text/plain": [
       "'\\n좌측 파랑색으로 되어있는거 셀이라고 한다\\nHOT KEY\\noutput 영역 토글 O , L 누르면 라인 번호 A는 위쪽영역 셀 삽입\\nB는 아래쪽 영역 cell 삽입 dd현재 셀을 삭제 \\nctrl + enter 현재 cell 실행\\nalt+ enter 현재 cell 실행하고 아래쪽에 셀을 삽입\\nshift + enter 현재 cell 실행 아래쪽 셀선택\\n셀의 번호는 몇번 실행시켰는지 보여주는거다\\n'"
      ]
     },
     "execution_count": 9,
     "metadata": {},
     "output_type": "execute_result"
    }
   ],
   "source": [
    "\"\"\"\n",
    "좌측 파랑색으로 되어있는거 셀이라고 한다\n",
    "HOT KEY\n",
    "output 영역 토글 O , L 누르면 라인 번호 A는 위쪽영역 셀 삽입\n",
    "B는 아래쪽 영역 cell 삽입 dd현재 셀을 삭제 \n",
    "ctrl + enter 현재 cell 실행\n",
    "alt+ enter 현재 cell 실행하고 아래쪽에 셀을 삽입\n",
    "shift + enter 현재 cell 실행 아래쪽 셀선택\n",
    "셀의 번호는 몇번 실행시켰는지 보여주는거다\n",
    "\"\"\"\n",
    "# 셀단위로 실핸하는 것에 주의"
   ]
  },
  {
   "cell_type": "code",
   "execution_count": 14,
   "metadata": {},
   "outputs": [
    {
     "name": "stdout",
     "output_type": "stream",
     "text": [
      "100\n",
      "100 200\n"
     ]
    },
    {
     "ename": "NameError",
     "evalue": "name 'var1' is not defined",
     "output_type": "error",
     "traceback": [
      "\u001b[1;31m---------------------------------------------------------------------------\u001b[0m",
      "\u001b[1;31mNameError\u001b[0m                                 Traceback (most recent call last)",
      "\u001b[1;32m<ipython-input-14-29d62b7f0fb9>\u001b[0m in \u001b[0;36m<module>\u001b[1;34m\u001b[0m\n\u001b[0;32m     11\u001b[0m \u001b[1;32mdel\u001b[0m\u001b[1;33m(\u001b[0m\u001b[0mvar1\u001b[0m\u001b[1;33m)\u001b[0m\u001b[1;33m\u001b[0m\u001b[1;33m\u001b[0m\u001b[0m\n\u001b[0;32m     12\u001b[0m \u001b[1;33m\u001b[0m\u001b[0m\n\u001b[1;32m---> 13\u001b[1;33m \u001b[0mprint\u001b[0m\u001b[1;33m(\u001b[0m\u001b[0mvar1\u001b[0m\u001b[1;33m)\u001b[0m\u001b[1;33m\u001b[0m\u001b[1;33m\u001b[0m\u001b[0m\n\u001b[0m",
      "\u001b[1;31mNameError\u001b[0m: name 'var1' is not defined"
     ]
    }
   ],
   "source": [
    "#변수를 생성하고 삭제해 보자 \n",
    "\n",
    "var1 = 100          #: 세미 콜론은 생략이 가능\n",
    "var1\n",
    "var2 = 200          # 이경우 끝에 껏만 찍어서 100은 출력이 안댄다 전부 출력이 되게 하려면\n",
    "var2                # 프린트 함수를 쓰면 무조건 찍어낸다\n",
    "\n",
    "print(var1)\n",
    "print(var1,var2)    # 이런 형식도 가능하다 \n",
    "\n",
    "del(var1)           # 변수 삭제도 가능함 \n",
    "\n",
    "print(var1)"
   ]
  }
 ],
 "metadata": {
  "kernelspec": {
   "display_name": "[CPU_ENV]",
   "language": "python",
   "name": "cpu_env"
  },
  "language_info": {
   "codemirror_mode": {
    "name": "ipython",
    "version": 3
   },
   "file_extension": ".py",
   "mimetype": "text/x-python",
   "name": "python",
   "nbconvert_exporter": "python",
   "pygments_lexer": "ipython3",
   "version": "3.6.9"
  }
 },
 "nbformat": 4,
 "nbformat_minor": 2
}
