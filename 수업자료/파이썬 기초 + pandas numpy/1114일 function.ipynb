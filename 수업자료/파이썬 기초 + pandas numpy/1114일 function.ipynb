{
 "cells": [
  {
   "cell_type": "code",
   "execution_count": 3,
   "metadata": {},
   "outputs": [
    {
     "name": "stdout",
     "output_type": "stream",
     "text": [
      "10\n"
     ]
    }
   ],
   "source": [
    "## function\n",
    "a= [1,2,3,4]\n",
    "mysum=0\n",
    "for i in a :\n",
    "    mysum=mysum+i\n",
    "    \n",
    "print (mysum)\n",
    "\n",
    "\n",
    "mySum = sum(a)"
   ]
  },
  {
   "cell_type": "code",
   "execution_count": 11,
   "metadata": {},
   "outputs": [
    {
     "name": "stdout",
     "output_type": "stream",
     "text": [
      "100 200 300\n",
      "입력받은 값은 : 100 200 300\n"
     ]
    }
   ],
   "source": [
    "# function \n",
    "\n",
    "# 숫자를 입력받아서  => 단위기능으로 간주 함수로 변환\n",
    "#해당숫자를 모두 더한후  => 단위기능으로 간주 함수로\n",
    "# 결과값은 : xx 입니다 형식으로 출력 => 단위기능 함수로 \n",
    "\n",
    "# 이렇게 함수기반의 프로그래밍 방식을 \n",
    "# 절차적 프로그래밍 (procedural programming)\n",
    "# 함수는 두가지로 구분 \n",
    "# 내장함수 (sum), 사용자 정의 함수 (user define)\n",
    "# 사용자 정의함수를 만드는 keyword는 def \n",
    "# 함수 definition 함수의 이름 인자형태 인자개수 + 기능 +구현 \n",
    "# 함수의 선언 declaration => 함수의 이름 인자형태 인자개수 \n",
    "def mySum (a,b,c):  #함수의 기능을 구현 \n",
    "    total = a+b+c\n",
    "    print(\"결과 값은: \",total ,\" 입니다.\")\n",
    "    #return total\n",
    "    \n",
    "inputValue=input() # 무조건 str로 받는다. \n",
    "print (\"입력받은 값은 : {}\".format(inputValue))\n",
    "\n",
    "var1 = inputValue.split(\" \") # \" \"를 기준으로 찢는다. list로 리턴\n",
    "print(var1)\n",
    "mySum(int(var1[0]),int(var1[1]),int(var1[2]))"
   ]
  },
  {
   "cell_type": "code",
   "execution_count": 14,
   "metadata": {},
   "outputs": [
    {
     "name": "stdout",
     "output_type": "stream",
     "text": [
      "['100', '200', '300']\n",
      "결과 값은:  600  입니다.\n"
     ]
    }
   ],
   "source": [
    "var1 = inputValue.split(\" \")\n",
    "print(var1)\n",
    "result = mySum(int(var1[0]),int(var1[1]),int(var1[2]))\n",
    "print (\"최종결과는 {}\".format(result))"
   ]
  },
  {
   "cell_type": "code",
   "execution_count": 15,
   "metadata": {},
   "outputs": [
    {
     "name": "stdout",
     "output_type": "stream",
     "text": [
      "최종결과 : 100\n"
     ]
    }
   ],
   "source": [
    "#함수 2번째 \n",
    "def mySum2(*args) : # args 가 tuple 로 간주 \n",
    "    # 전달 받은 모든 값들을 더해서 리턴\n",
    "    k=0\n",
    "    for i in range(len(args)):\n",
    "        k += args[i]\n",
    "    return k\n",
    "\n",
    "total = mySum2(10,20,30,40)\n",
    "print(\"최종결과 : {}\".format(total))"
   ]
  },
  {
   "cell_type": "code",
   "execution_count": 21,
   "metadata": {},
   "outputs": [
    {
     "name": "stdout",
     "output_type": "stream",
     "text": [
      "300\n",
      "20000\n"
     ]
    }
   ],
   "source": [
    "# 함수를 하나 정의한다 \n",
    "# 숫자 2개 받아서 2개의 합과 2개의 곱을 리턴한다\n",
    "def multi(x,y):\n",
    "    result1 =x+y\n",
    "    result2 = x*y\n",
    "    return result1,result2\n",
    "\n",
    "a,b=multi(100,200) # 결과값은 튜플로 나온다 \n",
    "print (a)\n",
    "print(b)"
   ]
  },
  {
   "cell_type": "code",
   "execution_count": 23,
   "metadata": {},
   "outputs": [
    {
     "name": "stdout",
     "output_type": "stream",
     "text": [
      "6\n",
      "103\n"
     ]
    }
   ],
   "source": [
    "# 사용자 정의 함수를 만들자\n",
    "# default parameter 가 있다. \n",
    "# 파라메터는 변수라고 생각하면 편리 function (x,y) 에서 xy \n",
    "def mySum(a,b,c=100): # c 에 값이 안들어 올수도 있다 안들어오면 100으로 해라 ######맨 마지막것만 디폴트 파라메타가 가능하다 \n",
    "    return a+b+c\n",
    "\n",
    "total = mySum(1,2,3);print(total)\n",
    "total = mySum(1,2);print(total)    "
   ]
  },
  {
   "cell_type": "code",
   "execution_count": 28,
   "metadata": {},
   "outputs": [
    {
     "name": "stdout",
     "output_type": "stream",
     "text": [
      "30\n",
      "30\n"
     ]
    }
   ],
   "source": [
    "tmp = 100\n",
    "\n",
    "def myFunc(x): # 함수안에서의 변수는 지역변수로써 다른곳에 있는것\n",
    "                # local variable 은 함수가 호출될때 생성되고 함수수행이 끝나면 사라진다\n",
    "                #  만약 지역변수가 바깥에 있는걸 지칭 하고 싶다면?\n",
    "    global tmp \n",
    "    tmp= 10     # 선언을 해주고 사용  이러면 외부의 tmp도 바뀐다\n",
    "    tmp += x    # 앵간하면 하지마라 꼬인다 \n",
    "    return tmp\n",
    "\n",
    "print(myFunc(20))\n",
    "print(tmp)"
   ]
  },
  {
   "cell_type": "code",
   "execution_count": 36,
   "metadata": {},
   "outputs": [
    {
     "name": "stdout",
     "output_type": "stream",
     "text": [
      "das 1fdsa 1fdsa\n"
     ]
    }
   ],
   "source": [
    "## 사용자 정의 함수는 위에서 설명한 방식대로 이용하면 된다. \n",
    "## 프로그램을 작성할때 함수를 어떻게 정의해서 사용할 것인 가를 고민해서 작성\n",
    "\n",
    "## 나머지는 내장함수 사용 .. python 이 제공하는 함수 \n",
    "## int() 인자로 들어온 놈을 정수로 변환\n",
    "## abs() 절대값을 리턴하는 함수\n",
    "\n",
    "### all() 인자로 반복가능한 타입이 와야 하고 인자로 들어온 값이 모두 참일때 True 리턴 \n",
    "a= [True,100,False, 3.14]\n",
    "a1= [True,100, 3.14]\n",
    "all(a)\n",
    "{} # 아무것도 없는 중괄호는 기본적으로 dict로 인식한다.\n",
    "# dict 빈것 false 로 간주 \n",
    "## len 길이구하는 내장함수\n",
    "## list() , tuple(), str() 각자의 타입으로 변환하는 함수\n",
    "## type() 타입 확인\n",
    "## max(),min()\n",
    "## join()\n",
    "a= [\"das\",\"fdsa\",\"fdsa\"]\n",
    "print(\" \".join(a)) ## 이거 사용법 주의해서 사용 중요할거같음 \n"
   ]
  }
 ],
 "metadata": {
  "kernelspec": {
   "display_name": "[CPU_ENV]",
   "language": "python",
   "name": "cpu_env"
  },
  "language_info": {
   "codemirror_mode": {
    "name": "ipython",
    "version": 3
   },
   "file_extension": ".py",
   "mimetype": "text/x-python",
   "name": "python",
   "nbconvert_exporter": "python",
   "pygments_lexer": "ipython3",
   "version": "3.6.9"
  }
 },
 "nbformat": 4,
 "nbformat_minor": 2
}
