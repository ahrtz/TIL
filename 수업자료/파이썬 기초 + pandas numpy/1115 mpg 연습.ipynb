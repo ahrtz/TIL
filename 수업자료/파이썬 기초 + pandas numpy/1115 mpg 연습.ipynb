{
 "cells": [
  {
   "cell_type": "code",
   "execution_count": 1,
   "metadata": {},
   "outputs": [],
   "source": [
    "import sys\n",
    "sys.path.append(\"C:/python_DA/python_Lib\")\n",
    "import mpg_ex as me\n",
    "\n",
    "\n",
    "result = []\n",
    "mpgFile = open(\"data.exercise.txt\",\"r\")\n",
    "mpgFile.readline()\n",
    "while True : \n",
    "    car = (mpgFile.readline())\n",
    "\n",
    "    if car == \"\":\n",
    "        break\n",
    "    car_list = car.split(\",\")\n",
    "    result.append(me.Mpgg(car_list[0],car_list[1],car_list[2],car_list[3],car_list[4],car_list[5],car_list[6],car_list[7],car_list[8],car_list[9],car_list[10],car_list[11]))\n",
    "#for s in result:    \n",
    "#     s.print_car()\n",
    "\n",
    "\n",
    "\n",
    "#mpg = (mpgFile.readline())\n",
    "\n",
    "#mpg1 = (mpgFile.readline())\n",
    "\n",
    "#stu = (studentFile.readline().replace(\"\\n\",\"\"))"
   ]
  },
  {
   "cell_type": "code",
   "execution_count": 6,
   "metadata": {},
   "outputs": [
    {
     "name": "stdout",
     "output_type": "stream",
     "text": [
      "25.96319018404908\n",
      "18.07894736842105\n"
     ]
    }
   ],
   "source": [
    "##1 번 \n",
    "result1hwy4 = []\n",
    "result1hwy5 = []\n",
    "\n",
    "for i in range(len(result)):\n",
    "    if result[i].cDispl<=4:\n",
    "        result1hwy4.append(result[i].cHwy)\n",
    "    elif result[i].cDispl>=5:\n",
    "        result1hwy5.append(result[i].cHwy)\n",
    "\n",
    "resulthwy4 = sum(result1hwy4,0.0)/len(result1hwy4)\n",
    "resulthwy5 = sum(result1hwy5,0.0)/len(result1hwy5)\n",
    "\n",
    "print(resulthwy4)\n",
    "print(resulthwy5)"
   ]
  },
  {
   "cell_type": "code",
   "execution_count": 7,
   "metadata": {},
   "outputs": [
    {
     "name": "stdout",
     "output_type": "stream",
     "text": [
      "아우디 도시연비 17.61111111111111\n",
      "토요타 도시연비 18.529411764705884\n"
     ]
    }
   ],
   "source": [
    "# 2 번 \n",
    "result2ctyA=[]\n",
    "result2ctyT=[]\n",
    "\n",
    "for i in range(len(result)):\n",
    "    if result[i].cManufac == '\"audi\"':\n",
    "        result2ctyA.append(result[i].cCty)\n",
    "    elif result[i].cManufac =='\"toyota\"' :\n",
    "        result2ctyT.append(result[i].cCty)\n",
    "\n",
    "\n",
    "result2ctyA = sum(result2ctyA,0.0)/len(result2ctyA)\n",
    "result2ctyT = sum(result2ctyT,0.0)/len(result2ctyT)\n",
    "\n",
    "print(\"아우디 도시연비 \"+str(result2ctyA))\n",
    "print(\"토요타 도시연비 \"+str(result2ctyT))"
   ]
  },
  {
   "cell_type": "code",
   "execution_count": 8,
   "metadata": {},
   "outputs": [
    {
     "name": "stdout",
     "output_type": "stream",
     "text": [
      "쉐바 고속연비 21.894736842105264\n",
      "포드 고속연비 19.36\n",
      "혼다 고속연비 32.55555555555556\n"
     ]
    }
   ],
   "source": [
    "# 3번\n",
    "result3hwyc=[]\n",
    "result3hwyf=[]\n",
    "result3hwyh=[]\n",
    "\n",
    "for i in range(len(result)):\n",
    "    if result[i].cManufac == '\"chevrolet\"':\n",
    "        result3hwyc.append(result[i].cHwy)\n",
    "    elif result[i].cManufac =='\"ford\"' :\n",
    "        result3hwyf.append(result[i].cHwy)\n",
    "    elif result[i].cManufac =='\"honda\"' :\n",
    "        result3hwyh.append(result[i].cHwy)\n",
    "\n",
    "\n",
    "result3hwyc = sum(result3hwyc,0.0)/len(result3hwyc)\n",
    "result3hwyf = sum(result3hwyf,0.0)/len(result3hwyf)\n",
    "result3hwyh = sum(result3hwyh,0.0)/len(result3hwyh)\n",
    "\n",
    "print(\"쉐바 고속연비 \"+str(result3hwyc))\n",
    "print(\"포드 고속연비 \"+str(result3hwyf))\n",
    "print(\"혼다 고속연비 \"+str(result3hwyh))"
   ]
  },
  {
   "cell_type": "code",
   "execution_count": 9,
   "metadata": {},
   "outputs": [
    {
     "name": "stdout",
     "output_type": "stream",
     "text": [
      "[['\"a4\"', 31], ['\"a4\"', 30], ['\"a4\"', 29], ['\"a4\"', 29], ['\"a4 quattro\"', 28], ['\"a4\"', 27], ['\"a4 quattro\"', 27], ['\"a4\"', 26], ['\"a4\"', 26], ['\"a4 quattro\"', 26], ['\"a4 quattro\"', 25], ['\"a4 quattro\"', 25], ['\"a4 quattro\"', 25], ['\"a4 quattro\"', 25], ['\"a4 quattro\"', 25], ['\"a6 quattro\"', 25], ['\"a6 quattro\"', 24], ['\"a6 quattro\"', 23]]\n"
     ]
    }
   ],
   "source": [
    "#4번\n",
    "result4 = []\n",
    "for i in range(len(result)):\n",
    "    if result[i].cManufac == '\"audi\"':\n",
    "        result4.append([result[i].cMdl,result[i].cHwy])\n",
    "\n",
    "result4.sort(key=lambda element:element[1],reverse=True)        \n",
    "print(result4)"
   ]
  },
  {
   "cell_type": "code",
   "execution_count": 28,
   "metadata": {
    "scrolled": false
   },
   "outputs": [
    {
     "name": "stdout",
     "output_type": "stream",
     "text": [
      "\"toyota\"\n"
     ]
    }
   ],
   "source": [
    "#5번 ## 제조사별로 어떻게 묶는지 모르겠음 \n",
    "result5 = []\n",
    "\n",
    "for i in range(len(result)):\n",
    "    if result[i].cClass =='\"suv\"':\n",
    "        \n",
    "        \n",
    "        \n",
    "        result5.append(result[i].cAvg)\n",
    "result5s = sum(result5,0.0)/len(result5)\n"
   ]
  },
  {
   "cell_type": "code",
   "execution_count": null,
   "metadata": {},
   "outputs": [],
   "source": []
  },
  {
   "cell_type": "code",
   "execution_count": 10,
   "metadata": {},
   "outputs": [
    {
     "name": "stdout",
     "output_type": "stream",
     "text": [
      "3.1\n"
     ]
    }
   ],
   "source": [
    "print(result[6].cDispl)"
   ]
  }
 ],
 "metadata": {
  "kernelspec": {
   "display_name": "[CPU_ENV]",
   "language": "python",
   "name": "cpu_env"
  },
  "language_info": {
   "codemirror_mode": {
    "name": "ipython",
    "version": 3
   },
   "file_extension": ".py",
   "mimetype": "text/x-python",
   "name": "python",
   "nbconvert_exporter": "python",
   "pygments_lexer": "ipython3",
   "version": "3.6.9"
  }
 },
 "nbformat": 4,
 "nbformat_minor": 2
}
