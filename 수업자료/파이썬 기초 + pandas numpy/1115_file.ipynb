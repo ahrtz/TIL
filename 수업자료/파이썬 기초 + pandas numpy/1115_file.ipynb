{
 "cells": [
  {
   "cell_type": "code",
   "execution_count": 5,
   "metadata": {
    "scrolled": true
   },
   "outputs": [
    {
     "name": "stdout",
     "output_type": "stream",
     "text": [
      "홍길동,18,7,19\n",
      "최길동,58,70,15\n",
      "아이유,92,94,99\n",
      "김연아,17,20,22\n",
      "이선희,76,25,14\n",
      "강감찬,90,19,71\n",
      "신사임당,31,23,16"
     ]
    }
   ],
   "source": [
    "# 파이썬의 기본 파일처리\n",
    "\n",
    "# 사용할 데이터 파일을 오픔\n",
    "# 읽기 용도 쓰기용도 가능\n",
    "\n",
    "file1=open(\"student_score.txt\",\"r\")   # 읽기 전용 파일\n",
    "file2=open(\"backup.txt\",\"w\")           # 쓰기 전용 파일 \n",
    "\n",
    "# 학생 성적파일에서 한줄씩 읽어와서 \n",
    "# output console에 출력하고 해당내용을 백업 파일에 저장 \n",
    "# \"\"  = false 니까 \n",
    "\n",
    "while True:\n",
    "    line =file1.readline()\n",
    "    print(line,end=\"\") # end가 없으면 무조건 개행 (\\n 줄바꿈 )\n",
    "    \n",
    "    if not line : ## if true면 : \n",
    "        break # 인접한 가장 가까운 루프 한개를 탈출 \n",
    "    file2.write(line)\n",
    "file1.close()          # 파일을 사용했으면 무조건 닫아 줘야함 \n",
    "file2.close()"
   ]
  },
  {
   "cell_type": "code",
   "execution_count": 24,
   "metadata": {
    "scrolled": true
   },
   "outputs": [
    {
     "name": "stdout",
     "output_type": "stream",
     "text": [
      "['홍길동', '18', '7', '19\\n']\n",
      "['최길동', '58', '70', '15\\n']\n",
      "['아이유', '92', '94', '99\\n']\n",
      "['김연아', '17', '20', '22\\n']\n",
      "['이선희', '76', '25', '14\\n']\n",
      "['강감찬', '90', '19', '71\\n']\n",
      "['신사임당', '31', '23', '16']\n",
      "['']\n",
      "[['홍길동', '18', '7', '19\\n', '30'], ['최길동', '58', '70', '15\\n'], ['아이유', '92', '94', '99\\n'], ['김연아', '17', '20', '22\\n'], ['이선희', '76', '25', '14\\n'], ['강감찬', '90', '19', '71\\n'], ['신사임당', '31', '23', '16']]\n"
     ]
    }
   ],
   "source": [
    "\n",
    "file1=open(\"student_score.txt\",\"r\")\n",
    "\n",
    "lis = []\n",
    "  \n",
    "\n",
    "\n",
    "while True:\n",
    "    a= file1.readline()  \n",
    "    a1= a.split(\",\")\n",
    "    print(a1)\n",
    "    if not a :\n",
    "        break\n",
    "    lis.append(a1)\n",
    "\n",
    "\n",
    "lis[0].append(\"30\")\n",
    "print(lis)\n"
   ]
  },
  {
   "cell_type": "code",
   "execution_count": 41,
   "metadata": {},
   "outputs": [
    {
     "name": "stdout",
     "output_type": "stream",
     "text": [
      "{'홍길동': ('18', '7', '19\\n'), '최길동': ('58', '70', '15\\n'), '아이유': ('92', '94', '99\\n'), '김연아': ('17', '20', '22\\n'), '이선희': ('76', '25', '14\\n'), '강감찬': ('90', '19', '71\\n'), '신사임당': ('31', '23', '16')}\n",
      "<class 'str'>\n"
     ]
    }
   ],
   "source": [
    "d = {}\n",
    "with open(\"student_score.txt\") as f:\n",
    "    for line in f:\n",
    "       (key,val,a,b) = line.split(\",\")\n",
    "       d[key] = val,a,b\n",
    "print(d)\n",
    "print((d[\"홍길동\"][1]))\n"
   ]
  }
 ],
 "metadata": {
  "kernelspec": {
   "display_name": "[CPU_ENV]",
   "language": "python",
   "name": "cpu_env"
  },
  "language_info": {
   "codemirror_mode": {
    "name": "ipython",
    "version": 3
   },
   "file_extension": ".py",
   "mimetype": "text/x-python",
   "name": "python",
   "nbconvert_exporter": "python",
   "pygments_lexer": "ipython3",
   "version": "3.6.9"
  }
 },
 "nbformat": 4,
 "nbformat_minor": 2
}
