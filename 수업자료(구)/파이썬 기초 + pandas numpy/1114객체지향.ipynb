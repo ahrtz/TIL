{
 "cells": [
  {
   "cell_type": "code",
   "execution_count": null,
   "metadata": {},
   "outputs": [],
   "source": [
    "# 객체지향 (object oriented programming)\n",
    "\n",
    "# 함수 기반의 프로그래밍을 하면 좋아요 \n",
    "\n",
    "# 이 방식으로 프로그래밍을 하고 있다 \n",
    "# 장점: 기능세분화 => 프로그래밍 쉽다 => 빨리 만들수 있다 => 비용이 적다\n",
    "# 단점: 처음에는 단점이 별로 없었는데 \n",
    "# 1990 년대 인터넷의 보급으로 정보량이 많아지기 시작 -> 유지보수 요구가 많아 지기 시작했다.\n",
    "## 절차적 프로그램으로 프로그램을 작성해서 이런 문제가 발생 \n",
    "#\n",
    "\n",
    "## 객체지향 패러다임이 시작\n",
    "## 그럼 객체지향이 어떤 프로그램인가\n",
    "## 현실세계에 잘 부합하는 ( 변화에 잘 적응하는) 프로그램을 만들기 위해 \n",
    "## 해결해야 하는 현실세계의 문제를 똑같이 모델링 하면 되는것이 아닌가?\n",
    "## 은행 프로그램을 만드려고 한다. \n",
    "## 은행프로그램을 구성하는 구성요소를 파악\n",
    "## 텔러 고객 계좌 지점 등 사람마다 파악하는 방식이 다르다\n",
    "## 구성요소간의 행위를 정의하는 프로그래밍 방식\n",
    "\n",
    "# 은행계좌(객체)를 예로 프로그램으로 표현(객체 모델링)\n",
    "## 객체들은 크게 2가지로 파악할 수 있다.\n",
    "## 상태와 행위로 파악\n",
    "## 상태는 값으로 표현되는것, 행위는 동작으로 표현 되는 것 \n",
    "## 잔액, 예금주, 계좌번호\n",
    "## 행위 -> 출금,입금,조회\n",
    "\n",
    "\n",
    "### 여기서 부터 시작 \n",
    "## class => 객체 모델링의 수단 \n",
    "## 클래스의 이름은 대문자로 시작(관용적)\n",
    "class Student:\n",
    "    # 상태와 : 이름 학과 학년 학번 성별 나이 키 몸무게 \n",
    "    @# 상태는 변수로 표현 => 프로퍼티\n",
    "    s_name = \"\" # 이름을 나타내는 프로퍼티\n",
    "    s_num=\"\"     # 학번을 나타내는 프로퍼티\n",
    "    # 설계하는 사람에 따라 변수를 다르게 잡아서 프로그래밍 제가각\n",
    "    @# 생성자 (constructuctor) \n",
    "        # 클래스가 묘사를 하면 생성자는 클래스가 묘사한 정보를 기반으로 데이터 공간을 잡는다. \n",
    "    def __init__ (self,n) # => 반드시 이 양식으로 사용되어야 한다  인자가 들어갈수 있다 \n",
    "        # 첫번째 인자는 반드시 self 가 들어가야 한다 . 사실 인자의 역할을 하는것이 아니다.\n",
    "        # ,n 이면 인자를 한개만 받아들이는거가 된다.\n",
    "    \n",
    "    \n",
    "    #행위로 나눠진다.\n",
    "    # 행위는 함수형태로 표현 socalled method\n",
    "    @# method \n",
    "    def display():\n",
    "        print(\" 학생이름은 :{}\".format(s_name))\n",
    "    \n",
    "    \n",
    "    ## 결국 데이터 타입을 선언하는거라고 봐도 될거 같음 \n",
    "    \n",
    "    \n",
    "    Student() # => 이 코드에 의해서 만들어진 메모리 저장공간 (instance 라고 한다)\n",
    "            # instance => 객체라고 부른다\n",
    "            # 클래스 내부에 정의된 생성자라고 불리는 함수가 호출된다. "
   ]
  },
  {
   "cell_type": "code",
   "execution_count": 41,
   "metadata": {},
   "outputs": [
    {
     "name": "stdout",
     "output_type": "stream",
     "text": [
      " 학생이름은 :홍길동\n",
      "한국\n",
      " 학생이름은 :rkdivo\n",
      "한국\n",
      "홍길동\n"
     ]
    }
   ],
   "source": [
    "class Student:\n",
    "    # 상태와 : 이름 학과 학년 학번 성별 나이 키 몸무게 \n",
    "    # 상태는 변수로 표현 => 프로퍼티\n",
    "    s_nation = \"\"\n",
    "  # class variable ( 모든 객체가 공유하는 변수)\n",
    " # class variable ( 그러니까 생성자안에 클래스이름 박아주는거야)\n",
    "    # 설계하는 사람에 따라 변수를 다르게 잡아서 프로그래밍 제가각\n",
    "    # 생성자 (constructuctor) \n",
    "    def __init__ (self,n,a): # 전역변수 , 지역변수 # 현재상태 s_name은 지역변수라서 안되는거야 \n",
    "        self.s_name = n # 이름을 나타내는 프로퍼티     # instance variable ( 객체가 독립적으로 가지고 있는 변수)\n",
    "        self.s_num= a\n",
    "        self.s_major=[]\n",
    "    # 클래스가 묘사를 하면 생성자는 클래스가 묘사한 정보를 기반으로 데이터 공간을 잡는다. \n",
    "    #행위로 나눠진다.\n",
    "    # 행위는 함수형태로 표현 socalled method\n",
    "    # method \n",
    "    def display(self):\n",
    "        print(\" 학생이름은 :{}\".format(self.s_name))\n",
    "\n",
    "\n",
    "\n",
    "\n",
    "t = Student(\"홍길동\",12)\n",
    "t.display()\n",
    "Student.s_nation = \"한국\"\n",
    "print(t.s_nation)\n",
    "# => 이 코드에 의해서 만들어진 메모리 저장공간 (instance 라고 한다)\n",
    "# instance => 객체라고 부른다\n",
    "# 클래스 내부에 정의된 생성자라고 불리는 함수가 호출된다. \n",
    "#이러면 t 가 객체가 된다.\n",
    "# 현재 이름이 공유하는 변수기 때문에 이렇게 하면 안대 \n",
    "        \n",
    "students = []\n",
    "students.append(Student(\"홍길동\",12)) # 객체 \n",
    "\n",
    "\n",
    "\n",
    "y= Student(\"rkdivo\",134)\n",
    "\n",
    "y.display()\n",
    "print(y.s_nation)\n",
    "\n",
    "b= students[0].s_name\n",
    "print(students[0].s_name)"
   ]
  },
  {
   "cell_type": "code",
   "execution_count": 36,
   "metadata": {},
   "outputs": [
    {
     "name": "stdout",
     "output_type": "stream",
     "text": [
      "홍길동\n"
     ]
    }
   ],
   "source": [
    "print(b)"
   ]
  }
 ],
 "metadata": {
  "kernelspec": {
   "display_name": "[CPU_ENV]",
   "language": "python",
   "name": "cpu_env"
  },
  "language_info": {
   "codemirror_mode": {
    "name": "ipython",
    "version": 3
   },
   "file_extension": ".py",
   "mimetype": "text/x-python",
   "name": "python",
   "nbconvert_exporter": "python",
   "pygments_lexer": "ipython3",
   "version": "3.6.9"
  }
 },
 "nbformat": 4,
 "nbformat_minor": 2
}
