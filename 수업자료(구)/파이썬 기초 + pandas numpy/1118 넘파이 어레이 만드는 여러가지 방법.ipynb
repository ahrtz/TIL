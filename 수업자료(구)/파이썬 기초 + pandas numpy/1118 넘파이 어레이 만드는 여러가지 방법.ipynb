{
 "cells": [
  {
   "cell_type": "code",
   "execution_count": null,
   "metadata": {},
   "outputs": [],
   "source": [
    "## numpy numerical python \n",
    "\n",
    "## 수핮ㄱ적 계산을 할때 수치연산을 할때 사용된다\n",
    "## 마치 R 의 벡터를 사용하는것처럼 넘파이를 사용할 수 있다. \n",
    "## 벡터 연산 매트릭스 연산을 빠르고 효율적으로 처리할 수 있다. \n",
    "\n",
    "##자료분석은 Pandas  , 그래프는 matplotlib 의 기본 자료 구조 넘파이\n",
    "\n",
    "## Numpy module 은 ndarray ( n - dimensional array ) 라고 불리는 <- n 차원 \n",
    "## 자료구조를 이용한다 => R 에서 벡터와 유사 \n",
    "## R 의 벡터 자료구조는 같은 데이터 타입을 저장하는 자료 구조 \n",
    "\n",
    "## Numpy 의 ndarray도 같은 데이터 타입만 저장이 가능하다 \n",
    "# Numpy의 Ndarray를 이용하려면 당연히 Numpy모듈이 설치되어있어야 한다. \n"
   ]
  },
  {
   "cell_type": "code",
   "execution_count": 2,
   "metadata": {},
   "outputs": [
    {
     "name": "stdout",
     "output_type": "stream",
     "text": [
      "list ->[1, 2, 3, 4, 5], type => <class 'list'>\n",
      "list[0] ->1, type[0] => <class 'int'>\n"
     ]
    }
   ],
   "source": [
    "## 모듈을 설치할때 명령어 \n",
    "#        우리는 아나콘다를 쓰니까   \"conda install numpy\"\n",
    "#        아나콘다 환경이 아닐경우 pip라는 명령어를 이용해서 모듈을 설치하면 된다. \n",
    "import numpy as np\n",
    "\n",
    "## ndarray를 생성하고 datatype 을 살펴보자 \n",
    "# python 의 list 부터 살펴보자 \n",
    "a= [1,2,3,4,5]\n",
    "#사용하기 편한대신 조금 느리다. \n",
    "print(\"list ->{}, type => {}\".format(a,type(a)))   # 모든게 다 클래스로 이루어졋다 (객체지향의 그 클래스를 만들고)\n",
    "print(\"list[0] ->{}, type[0] => {}\".format(a[0],type(a[0])))    # 객체를 만든다? \n",
    "\n",
    "# 이 형식을 잘 해놓자 "
   ]
  },
  {
   "cell_type": "code",
   "execution_count": 4,
   "metadata": {},
   "outputs": [
    {
     "name": "stdout",
     "output_type": "stream",
     "text": [
      "list ->[ 1.          2.3531321   3.43582397  4.         32.        ], type => <class 'numpy.ndarray'>\n",
      "list ->1.0, type => <class 'numpy.float64'>\n",
      "ndarray dtype => float64\n"
     ]
    }
   ],
   "source": [
    "## Numpy Ndarray\n",
    "b= np.array([1,2.3531321,3.4358239749,4,32])#리스트를 넣을수도 tuple을 넣을 수도 있다.\n",
    "print(\"list ->{}, type => {}\".format(b,type(b)))             # 리스트와 생김새가 다르다 , 중간에 ',' 가 없음 \n",
    "print(\"list ->{}, type => {}\".format(b[0],type(b[-1])))\n",
    "print(\"ndarray dtype => {}\".format(b.dtype))\n",
    "\n",
    "# int 32 => 정수형이고 32비트로 구성되어 있다. \n",
    "## 2진수 로 32개의 비트로 표현할 수 있는 최대수 \n",
    "## 2의 32승 =>2 **32 => 4294967296\n",
    "## -21억 4748만 3648 에서 +21억 4748만 3648  까지 의 숫자만 표현이 가능하다\n",
    "\n",
    "## int 64를 이용하면 더 큰수를 표현 할 수 있다. 2**64\n",
    "## 더 큰수는 float를 이용 \n",
    "\n"
   ]
  },
  {
   "cell_type": "code",
   "execution_count": 5,
   "metadata": {},
   "outputs": [
    {
     "name": "stdout",
     "output_type": "stream",
     "text": [
      "['100' '헬로' '3.141592']\n",
      "<U11\n",
      "<class 'numpy.str_'>\n"
     ]
    }
   ],
   "source": [
    "#c= np.ndarray([100,\"헬로\",3.141592])\n",
    "c= np.array([100,\"헬로\",3.141592])\n",
    "## ndarray를 만드는 가장 간단한 방법 \n",
    "## numpy가 제공하는 함수를 이용 \n",
    "print(c) # ndarray는 같은 계열만 들어갈수있다.\n",
    "print(c.dtype)   # 유니코드를 표현해주는거임 \n",
    "print(type(c[1]))\n",
    "#print(\"ndarray dtype => {}\".format(c.dtype))"
   ]
  },
  {
   "cell_type": "code",
   "execution_count": 6,
   "metadata": {},
   "outputs": [
    {
     "name": "stdout",
     "output_type": "stream",
     "text": [
      "[[1 2 3]\n",
      " [5 8 9]]\n",
      "int32\n",
      "float64\n",
      "[[1. 2. 3.]\n",
      " [5. 8. 9.]]\n"
     ]
    }
   ],
   "source": [
    "# 다차원 numpy만들기\n",
    "#myList=[(1,2,3),(5,8,9)]\n",
    "myList=[[1,2,3],[5,8,9]]\n",
    "arr=np.array(myList) # 2차원의 ndarray\n",
    "print(arr)\n",
    "# 1행 2열을 출력하려면?\n",
    "arr[1,2]  # 0행부터 시작이니까 이렇게 하면 9가 나온다 \n",
    "        # arr[1][2] 이런식으로 쓰지 마세요 \n",
    "# n차원 ndarray가 어떻게 표현되는지 확인해야 한다\n",
    "# 기본 데이터 타입은 정수일 경우 int32로 사용된다.\n",
    "print(arr.dtype)\n",
    "\n",
    "## 만약 데이터 타입을 지정하려면 \n",
    "#arr = np.array(myList,dtype = \"int64\")   # 가능은 하지만 그다지 좋지 않다. \n",
    "#arr = np.array(myList,dtype = np.int64)   # 이렇게 하는것이 좋다. \n",
    "arr = np.array(myList,dtype = np.float64)\n",
    "print(arr.dtype)\n",
    "print(arr)\n"
   ]
  },
  {
   "cell_type": "code",
   "execution_count": 7,
   "metadata": {},
   "outputs": [
    {
     "name": "stdout",
     "output_type": "stream",
     "text": [
      "2\n",
      "[[1 2]\n",
      " [3 4]\n",
      " [5 6]\n",
      " [7 8]]\n",
      "(4, 2)\n"
     ]
    }
   ],
   "source": [
    "## 차원의 개수와 크기 및 axis\n",
    "#myList = [1,2,3,4]\n",
    "#myList = [[1,2,3,5],[3,4,4,5]]\n",
    "myList= [[1,2],[3,4],[5,6],[7,8]]\n",
    "#myList= [[[1,2],[2,3]],[[3,2],[3,5]]]\n",
    "arr= np.array(myList) ## python list를 이용해서 넘파이 어레이 생성\n",
    "## 이렇게 numpy array를 생성하면 차원의 개수를 알 수 있다. \n",
    "print(arr.ndim)\n",
    "print(arr)\n",
    "## 차원의 개수와 원소 개수를 동시에 알려주는 속성 \n",
    "print(arr.shape)   # 튜플로 떨어지고 (4,)   <-  원소가 하나 있는 튜플 표현 방법 \n",
    "# 2면 2행 2열 \n",
    "#1차원 열만 존재 \n",
    "# 2차원 행이 생기는것  그래서 행열\n",
    "# 3차원 => 면 행 열 \n",
    "# 늘어나면 이제 입체로 생각  점 선 면 입체 \n"
   ]
  },
  {
   "cell_type": "code",
   "execution_count": 8,
   "metadata": {
    "scrolled": true
   },
   "outputs": [
    {
     "name": "stdout",
     "output_type": "stream",
     "text": [
      "array의 차원의 수는: 1차원\n",
      "array의 shape: (16,)\n",
      "array의 모든 요소들의 개수: 16\n",
      "array의 모든 행의 개수(1차원의 갯수): 16\n",
      "[[[[ 1  2]\n",
      "   [ 3  4]]\n",
      "\n",
      "  [[ 5  6]\n",
      "   [ 7  8]]]\n",
      "\n",
      "\n",
      " [[[ 9 10]\n",
      "   [11 12]]\n",
      "\n",
      "  [[13 14]\n",
      "   [15 16]]]]\n",
      "[[ 1  2  3  4]\n",
      " [ 5  6  7  8]\n",
      " [ 9 10 11 12]\n",
      " [13 14 15 16]]\n"
     ]
    }
   ],
   "source": [
    "## 넘파이 차원 제어 \n",
    "\n",
    "myList = [1,2,3,4,5,6,7,8,9,10,11,12,13,14,15,16]\n",
    "#myList = [[1,2],[3,4],[5,6]]\n",
    "arr = np.array(myList) ## 넘파이 어레이 생성 \n",
    "# 차원의 수를 알아보자 \n",
    "print(\"array의 차원의 수는: {}차원\".format(arr.ndim))\n",
    "# 차원의 수와 각 차원의 원소의 개수 \n",
    "print(\"array의 shape: {}\".format(arr.shape))\n",
    "# 차원에 상관없이 모든 요소의 개수 \n",
    "print(\"array의 모든 요소들의 개수: {}\".format(arr.size))\n",
    "#python 의 len 함수는 ndarray에 적용하면 \n",
    "# 1차원의 요소 개수를 리턴 \n",
    "print(\"array의 모든 행의 개수(1차원의 갯수): {}\".format(len(arr)))\n",
    "\n",
    "# shape 을 변경할 수 있다. 넘파이에선 니 맘대로 가능  \n",
    "#arr.shape= (2,3,2)  # 튜플은 괄호를 생략 가능하다 \n",
    "arr.shape= 2,2,2,2   # 혁신적인 기능 \n",
    "print(arr)\n",
    "\n",
    "## 이렇게 shape을 변경할 수 있는데 \n",
    "## arr.shape 을 직접 바꾸는 방식은 잘 사용하지 않는다. \n",
    "## 다른 방식이 있다. reshape()함수를 이용한다. \n",
    "b=arr.reshape(4,4)\n",
    "print(b)\n"
   ]
  },
  {
   "cell_type": "code",
   "execution_count": 9,
   "metadata": {},
   "outputs": [
    {
     "name": "stdout",
     "output_type": "stream",
     "text": [
      "[ 1.1   3.14  2.   44.    3.99]\n",
      "float64\n",
      "[ 1  3  2 44  3]\n"
     ]
    }
   ],
   "source": [
    "## numpy array의 type 변경 \n",
    "arr= np.array([1.1,3.14,2,44.0,3.99])\n",
    "print(arr)\n",
    "print(arr.dtype)\n",
    "\n",
    "## ndarray 의 데이터 타입을 다른 형식으로 변경 할 수 있다. \n",
    "int_arr= arr.astype(np.int32)\n",
    "print(int_arr) ## 반 올림 이런거 없고 무조건 버림의 형태 "
   ]
  },
  {
   "cell_type": "code",
   "execution_count": 10,
   "metadata": {},
   "outputs": [
    {
     "name": "stdout",
     "output_type": "stream",
     "text": [
      "[[9. 9. 9. 9.]\n",
      " [9. 9. 9. 9.]\n",
      " [9. 9. 9. 9.]]\n"
     ]
    }
   ],
   "source": [
    "## numpy array를 생성하는 다양한 방법 \n",
    "arr = np.array([1,2,3,4])\n",
    "\n",
    "## 모든 원소의 값이 0 인 ndarray를 원하는 shape 으로 생성\n",
    "\n",
    "arr = np.zeros((3,4))   ## (3,4) 의 shape 으로 원소의 값이 0 인 어레이를 생성 튜플 표현은 앵간하면 생략하지 말자 \n",
    "\n",
    "\n",
    "\n",
    "## 모든 원소의 값이 1인 ndarray 를 원하는 shape 으로 생성\n",
    "arr = np.ones((2,4), dtype = np.int32)\n",
    "\n",
    "## numpy array의 공간만 확보 할 수 있다. \n",
    "## 초기화를 하지 않는다. \n",
    "## 그러므로 속도가 빠르다. \n",
    "arr = np.empty((2,4)) \n",
    "## 임의의 메모리에 들어있는 가비지 값을 그냥 보여주는거임\n",
    "\n",
    "## one이나 zeros 는 초기화 작업이 추가적으로 진행\n",
    "## array의 크기가 커지면 속도가 저하 \n",
    "\n",
    "arr = np.full((3,4),9, dtype = np.float64)\n",
    "                        # 임의의 값으로 어레이를 가득 채움 (초기화를 진행)\n",
    "print(arr)"
   ]
  },
  {
   "cell_type": "code",
   "execution_count": 11,
   "metadata": {},
   "outputs": [
    {
     "name": "stdout",
     "output_type": "stream",
     "text": [
      "[[1 2 3]\n",
      " [4 5 6]]\n",
      "[[1. 1. 1.]\n",
      " [1. 1. 1.]]\n"
     ]
    }
   ],
   "source": [
    "arr = np.array([(1,2,3),(4,5,6)])\n",
    "print(arr)\n",
    "## 위에서 설명한 ones, zeros,full,empty 와 같은 역할을 하면서\n",
    "# shape이 지정한 array와 같도록 만드는 함수 \n",
    "arr_like =np.ones_like(arr,dtype = np.float64)\n",
    "print(arr_like)"
   ]
  },
  {
   "cell_type": "code",
   "execution_count": 12,
   "metadata": {},
   "outputs": [
    {
     "name": "stdout",
     "output_type": "stream",
     "text": [
      "[0.1 3.1]\n"
     ]
    }
   ],
   "source": [
    "## ndarray를 만드는 다양한 방법 -arrange \n",
    "## python 의 range() 와 유사한 기능을 한다. \n",
    "\n",
    "arr= np.arange(0,10,2)# 0은 포함 10은 미포함 2씩증가 \n",
    "arr = np.arange(0.1,5,3)\n",
    "print(arr)   ## arange 임 그냥 레인지가 아니라ㅣ\n",
    "\n"
   ]
  },
  {
   "cell_type": "code",
   "execution_count": 112,
   "metadata": {},
   "outputs": [
    {
     "name": "stdout",
     "output_type": "stream",
     "text": [
      "[ 0.          3.33333333  6.66666667 10.        ]\n"
     ]
    }
   ],
   "source": [
    "## ndarray를 만드는 다양한 방법 - linspace\n",
    "## np.linspace(start,stop,num)  ## start 와 stop 을 포함\n",
    "## start 부터 stop 까지의 범위에서 num개를 균일한 관격으로 \n",
    "## 데이터를 생성하고 ndarray를 리턴\n",
    "arr = np.linspace(0,10,4)\n",
    "print(arr)\n",
    "## 등분하는걸 생각하면 편하다\n",
    "\n",
    "\n"
   ]
  }
 ],
 "metadata": {
  "kernelspec": {
   "display_name": "[CPU_ENV]",
   "language": "python",
   "name": "cpu_env"
  },
  "language_info": {
   "codemirror_mode": {
    "name": "ipython",
    "version": 3
   },
   "file_extension": ".py",
   "mimetype": "text/x-python",
   "name": "python",
   "nbconvert_exporter": "python",
   "pygments_lexer": "ipython3",
   "version": "3.6.9"
  }
 },
 "nbformat": 4,
 "nbformat_minor": 2
}
