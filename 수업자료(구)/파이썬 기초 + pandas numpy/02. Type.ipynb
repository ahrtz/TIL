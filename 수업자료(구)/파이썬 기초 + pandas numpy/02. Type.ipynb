{
 "cells": [
  {
   "cell_type": "code",
   "execution_count": null,
   "metadata": {},
   "outputs": [],
   "source": [
    "# 파이썬의 빌트인 타입 \n",
    "#numeric 숫자계열 정수int 실수float,double 복소수complex \n",
    "# 문자열 text sequence : 문자열 (str)\n",
    "# bool : 논리 트루 폴스 (bool)\n",
    "# 자료구조 \n",
    "# Sequence(list,tuple) : 순서\n",
    "# Mapping ( dict )\n",
    "# Set( set )\n"
   ]
  },
  {
   "cell_type": "code",
   "execution_count": 29,
   "metadata": {},
   "outputs": [
    {
     "name": "stdout",
     "output_type": "stream",
     "text": [
      "<class 'complex'>\n",
      "0.75\n",
      "27\n",
      "1\n",
      "33\n"
     ]
    }
   ],
   "source": [
    "#Numeric Data Type\n",
    "# int (정수)\n",
    "# float (실수)\n",
    "# complex (복소수)\n",
    "a= 123           # 정수 (10 진수)\n",
    "b= 3.141592      # 실수\n",
    "c= 3.14E10       # 지수 표현(실수)\n",
    "d= 1+2j          # 복소수 (주의 i가 아니라 j임)\n",
    "e= 0o37          # 8진수 표현 숫자0 + 소문자o\n",
    "f= 0xFF          # 16진수 표현 \n",
    "변수 = 1+5j\n",
    "print(type(변수))    # 타입을 알려줍니다.\n",
    "\n",
    "div =3/4         #3.x 버전에서는 이렇게 나옴 2.x 버전에서는 0으로 나옴  호환성이 없다 \n",
    "print(div)\n",
    "\n",
    "result = 3**3\n",
    "print(result)\n",
    "\n",
    "rsult = 100%3 # 모듈러 연산\n",
    "print(rsult)\n",
    "\n",
    "result2 = 100//3 # 몫 연산 \n",
    "print(result2)"
   ]
  },
  {
   "cell_type": "code",
   "execution_count": 31,
   "metadata": {},
   "outputs": [],
   "source": [
    "# Text Sequence Type (str)\n",
    "# 우리가 일반적으로 말하는 문자열 \n",
    "# 문자열 생성 방법\n",
    "a= \"Hello\"        # 한줄 짜리 문자열\n",
    "b= 'Gello'        # 쌍따옴표 싱글 따옴표 둘다 가능 혼용은 하지마\n",
    "\n",
    "# 여려줄짜리 문자열\n",
    "c= \"\"\"이것은\n",
    "소리없는 \n",
    "아우성\"\"\"         # 독립적으로 있으면 주석이지만 변수에 들어가면 문자열이 된다 그리고 이 안에는 줄바꿈이 포함되어 있다.\n",
    "\n",
    "d= '''이것도 \n",
    "위와\n",
    "같음'''\n"
   ]
  },
  {
   "cell_type": "code",
   "execution_count": 61,
   "metadata": {},
   "outputs": [
    {
     "name": "stdout",
     "output_type": "stream",
     "text": [
      "이건 몰라 새꺄\n",
      "pythonpythonpython\n",
      "this is a\n",
      "this\n",
      "his is a sample text. show me the money\n"
     ]
    }
   ],
   "source": [
    "# 문자열 연산, indexing ,Slicing\n",
    "first = \"이건\"\n",
    "last = \" 몰라 새꺄\"\n",
    "\n",
    "# 두 문자열을 연결\n",
    "result=first +last   # 연산자 overloading\n",
    "print(result)\n",
    "\n",
    "# 그렇다면 문자열의 곱을 어떻게 될까\n",
    "TEXT='python'\n",
    "print(TEXT *3)  # 문자열을 3번 연결하는 거네요 \n",
    "\n",
    "a= 'this is a sample text. show me the money'\n",
    "a[-39]               # R 의 벡터를 생각할 수 있다. \n",
    "# indexing 0 부터 시작  \n",
    "len(a)\n",
    "\n",
    "# 문자열 뽑기 \n",
    "print(a[0:9])   # slicing \n",
    "                # 시작은 포함하고 맨 뒤는 포함 안한다 \n",
    "print(a[:4])    # 처음부터 3까지 출력 \n",
    "print(a[1:])    # 시작점부터 끝까지 \n"
   ]
  }
 ],
 "metadata": {
  "kernelspec": {
   "display_name": "[CPU_ENV]",
   "language": "python",
   "name": "cpu_env"
  },
  "language_info": {
   "codemirror_mode": {
    "name": "ipython",
    "version": 3
   },
   "file_extension": ".py",
   "mimetype": "text/x-python",
   "name": "python",
   "nbconvert_exporter": "python",
   "pygments_lexer": "ipython3",
   "version": "3.6.9"
  }
 },
 "nbformat": 4,
 "nbformat_minor": 2
}
