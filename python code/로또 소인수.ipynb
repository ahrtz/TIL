{
 "cells": [
  {
   "cell_type": "code",
   "execution_count": null,
   "metadata": {},
   "outputs": [],
   "source": [
    "exs = set([1,2,4,5,6,7])\n",
    "print(exs)"
   ]
  },
  {
   "cell_type": "code",
   "execution_count": null,
   "metadata": {},
   "outputs": [],
   "source": [
    "#문제 4: 로또 프로그램을 작성\n",
    "## 5천원으로 로또 복권 5장을 자동으로 구매 \n",
    "## 이번주 로또 당첨번호를 생성하여 구매한 로또가 당첨이 됬는지를 확인\n",
    "# 쉬운것부터 => 보너스번호가 없다\n",
    "# 1등 : 6개 \n",
    "# 2등 : 5개 \n",
    "# 3등 : 4개 \n",
    "# 4등 :3개 \n",
    "#45\n",
    "# 다섯 장의 로또 번호가 몇등에 당첨 되었는지 출력 해보기 \n",
    "# 랜덤번호 추출 \n",
    "\n",
    "\n",
    "#random.randint(1,45) # 1부터 10 사이의 정수형 난수를 생성\n",
    "\n",
    "# 추가 1등 6개 \n",
    "#2등 5개 +보너스 \n",
    "#3등 5개\n",
    "# 4등 4개 "
   ]
  },
  {
   "cell_type": "code",
   "execution_count": 875,
   "metadata": {},
   "outputs": [
    {
     "name": "stdout",
     "output_type": "stream",
     "text": [
      "꽝\n",
      "꽝\n",
      "꽝\n",
      "꽝\n",
      "꽝\n"
     ]
    }
   ],
   "source": [
    "import random\n",
    "mylot=list()\n",
    "for i in range(5):\n",
    "    exp =set ()\n",
    "    while len(exp) <6:\n",
    "    \n",
    "        exp.add(random.randint(1,45))\n",
    "\n",
    "#    print(exp)\n",
    "    mylot.append(exp)\n",
    "\n",
    "for i in range(1):\n",
    "    win =set()\n",
    "    while len(win) <6:\n",
    "        \n",
    "        win.add(random.randint(1,45))\n",
    "#    print(win)\n",
    "#print(mylot)\n",
    "\n",
    "\n",
    "for i in range(0,5):\n",
    "    if len(mylot[i]-win)==0:\n",
    "        print(\"1등\")\n",
    "    elif len(mylot[i]-win)==1:\n",
    "        print(\"2등\")\n",
    "    elif len(mylot[i]-win) ==2: \n",
    "        print(\"3등\")\n",
    "    elif len(mylot[i]-win) ==3:\n",
    "        print (\"4등\")\n",
    "    else :\n",
    "        print(\"꽝\")"
   ]
  },
  {
   "cell_type": "code",
   "execution_count": 1663,
   "metadata": {},
   "outputs": [
    {
     "name": "stdout",
     "output_type": "stream",
     "text": [
      "{34, 3, 36, 9, 44, 23, 25}\n",
      "{35, 36, 6, 39, 40, 26, 27}\n",
      "{34, 3, 7, 44, 45, 16, 21}\n",
      "{3, 36, 37, 41, 10, 14, 30}\n",
      "{33, 4, 39, 9, 43, 21, 27}\n",
      "[35, 3, 41, 16, 22, 25, 27]\n",
      "꽝\n",
      "꽝\n",
      "꽝\n",
      "꽝\n",
      "꽝\n"
     ]
    }
   ],
   "source": [
    "#추가\n",
    "import random\n",
    "mylot=list()\n",
    "for i in range(5):\n",
    "    exp =set ()\n",
    "    \n",
    "    while len(exp) <7:\n",
    "    \n",
    "        exp.add(random.randint(1,45))\n",
    "        \n",
    "    print(exp)\n",
    "    exp=list(exp)\n",
    "    mylot.append(exp)\n",
    "\n",
    "for i in range(1):\n",
    "    win =set()\n",
    "    while len(win) <7:\n",
    "        \n",
    "        win.add(random.randint(1,45))\n",
    "\n",
    "win=list(win)\n",
    "bonus = list(win)\n",
    "\n",
    "print(win)\n",
    "#print(mylot)\n",
    "bonus1 = set(bonus)\n",
    "\n",
    "\n",
    "\n",
    "for i in range(0,5):\n",
    "    if (sorted(mylot[i][0:6])==sorted(win[:6])):\n",
    "        print(\"1등\")\n",
    "    elif len((set(mylot[i][0:6])-set(win[:6])))==1 and mylot[i][-1]==win[-1]:\n",
    "        print(\"2등\")\n",
    "    elif len((set(mylot[i][0:6])-set(win[:6]))) ==1: \n",
    "        print(\"3등\")\n",
    "    elif len((set(mylot[i][0:6])-set(win[:6]))) ==2:\n",
    "        print (\"4등\")\n",
    "    elif len((set(mylot[i][0:6])-set(win[:6]))) ==3:\n",
    "        print (\"5등\")\n",
    "    else :\n",
    "        print(\"꽝\")\n"
   ]
  },
  {
   "cell_type": "code",
   "execution_count": 7,
   "metadata": {},
   "outputs": [
    {
     "name": "stdout",
     "output_type": "stream",
     "text": [
      "19045563\n"
     ]
    }
   ],
   "source": [
    "num =0\n",
    "        \n",
    "while True :\n",
    "    mylot=list()\n",
    "    for i in range(1):\n",
    "        exp =set ()\n",
    "    \n",
    "        while len(exp) <6:\n",
    "    \n",
    "            exp.add(random.randint(1,45))\n",
    "        \n",
    "       \n",
    "        \n",
    "\n",
    "\n",
    "    for i in range(1):\n",
    "        win =set()\n",
    "        while len(win) <6:\n",
    "        \n",
    "            win.add(random.randint(1,45))\n",
    "\n",
    "   \n",
    "    \n",
    "    num=num+1\n",
    "    if len(exp-win)==0:\n",
    "        print(num)\n",
    "        break\n",
    "    else:\n",
    "        continue\n",
    "        "
   ]
  },
  {
   "cell_type": "code",
   "execution_count": 5,
   "metadata": {},
   "outputs": [
    {
     "name": "stdout",
     "output_type": "stream",
     "text": [
      "2761696\n"
     ]
    }
   ],
   "source": [
    "import random\n",
    "# 답안 \n",
    " # 주피터에서만 됨 셀에서 되는 시간을 측정 \n",
    "num = set()\n",
    "while len(num)<6:\n",
    "    num.add(random.randint(1,45))\n",
    "    \n",
    "ncount=0\n",
    "while True:\n",
    "    mylotto = set()\n",
    "    while len(mylotto) <6:\n",
    "        mylotto.add(random.randint(1,45))\n",
    "    if len(num & mylotto)==6:\n",
    "        break\n",
    "    else:\n",
    "        ncount+=1\n",
    "print(ncount)"
   ]
  },
  {
   "cell_type": "code",
   "execution_count": 105,
   "metadata": {},
   "outputs": [
    {
     "name": "stdout",
     "output_type": "stream",
     "text": [
      "[]\n"
     ]
    }
   ],
   "source": [
    "# 문제 \n",
    "# 어떤 수를 소수의 곱으로만 나타내는것을 소인수 분해라고 한다 \n",
    "# 그냥 소인수 분해 해라 \n",
    "# 600851475143 의 소인수중 가장 큰수는? \n",
    "\n",
    "a = 327247\n",
    "b = 600851475143600851475143\n",
    "m=[]\n",
    "\n",
    "for i in range(2, a):\n",
    "            if (a % i) == 0:\n",
    "                print(i, \"is a prime number\")\n",
    "                a= (a/i)\n",
    "                m.append(i)\n",
    "print(m)\n",
    "\n",
    "for i in range(0,len(m)):\n",
    "    k=m[i]\n",
    "    count=0\n",
    "    for n in range (1,k+1):\n",
    "        if k % n == 0 :\n",
    "            count = count +1\n",
    "            \n",
    "      \n",
    "    if count==2:\n",
    "        print(k,\"이야\")"
   ]
  },
  {
   "cell_type": "markdown",
   "metadata": {},
   "source": [
    "a=list()\n",
    "a.append(2)\n",
    "print(a)"
   ]
  },
  {
   "cell_type": "code",
   "execution_count": 67,
   "metadata": {},
   "outputs": [
    {
     "name": "stdout",
     "output_type": "stream",
     "text": [
      "2\n",
      "3\n",
      "6\n"
     ]
    }
   ],
   "source": [
    "for i in range(len(m)):\n",
    "    print(m[i])"
   ]
  }
 ],
 "metadata": {
  "kernelspec": {
   "display_name": "[CPU_ENV]",
   "language": "python",
   "name": "cpu_env"
  },
  "language_info": {
   "codemirror_mode": {
    "name": "ipython",
    "version": 3
   },
   "file_extension": ".py",
   "mimetype": "text/x-python",
   "name": "python",
   "nbconvert_exporter": "python",
   "pygments_lexer": "ipython3",
   "version": "3.6.9"
  }
 },
 "nbformat": 4,
 "nbformat_minor": 2
}
