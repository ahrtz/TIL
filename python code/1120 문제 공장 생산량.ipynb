{
 "cells": [
  {
   "cell_type": "code",
   "execution_count": 107,
   "metadata": {},
   "outputs": [
    {
     "name": "stdout",
     "output_type": "stream",
     "text": [
      "<class 'int'>\n",
      "2019-01-01    63\n",
      "2019-01-02    50\n",
      "2019-01-03    47\n",
      "2019-01-04    49\n",
      "2019-01-05    50\n",
      "2019-01-06    52\n",
      "2019-01-07    56\n",
      "2019-01-08    46\n",
      "2019-01-09    49\n",
      "2019-01-10    49\n",
      "2019-01-11     0\n",
      "2019-01-12     0\n",
      "2019-01-13     0\n",
      "2019-01-14     0\n",
      "2019-01-15     0\n",
      "dtype: object\n",
      "2019-01-01     0.0\n",
      "2019-01-02     0.0\n",
      "2019-01-03     0.0\n",
      "2019-01-04     0.0\n",
      "2019-01-05     0.0\n",
      "2019-01-06    75.0\n",
      "2019-01-07    72.0\n",
      "2019-01-08    64.0\n",
      "2019-01-09    75.0\n",
      "2019-01-10    56.0\n",
      "2019-01-11    72.0\n",
      "2019-01-12    57.0\n",
      "2019-01-13    66.0\n",
      "2019-01-14    68.0\n",
      "2019-01-15    68.0\n",
      "dtype: float64\n",
      "2019-01-01     63\n",
      "2019-01-02     50\n",
      "2019-01-03     47\n",
      "2019-01-04     49\n",
      "2019-01-05     50\n",
      "2019-01-06    127\n",
      "2019-01-07    128\n",
      "2019-01-08    110\n",
      "2019-01-09    124\n",
      "2019-01-10    105\n",
      "2019-01-11     72\n",
      "2019-01-12     57\n",
      "2019-01-13     66\n",
      "2019-01-14     68\n",
      "2019-01-15     68\n",
      "dtype: object\n"
     ]
    },
    {
     "data": {
      "text/plain": [
       "'\\n예시 \\nstart_day =datetime(2019,1,1)\\nfactoryA= pd.Series([int(x) for x in np.random.normal(50,5,(10,)),index = [start_day+timedelta(days=i) for i in range (10)]\\n])\\n\\n\\n'"
      ]
     },
     "execution_count": 107,
     "metadata": {},
     "output_type": "execute_result"
    }
   ],
   "source": [
    "## A 공장의 2019 1 1 부터 10일간 제품 생산량을 series로 저장 \n",
    "## 생산량은 랜덤으로 결정 평균이 50이고 표중편차가 5인 정규분포 \n",
    "## 정수로 추출 \n",
    "## 형식 2019-1-1: 53 \n",
    "## B 공장의 2019 1 1 10일간 제품 생산량 \n",
    "## 평균 70 표준편차 8\n",
    "import numpy as np \n",
    "import pandas as pd\n",
    "from datetime import date,datetime,timedelta\n",
    "from dateutil.relativedelta import relativedelta\n",
    "from dateutil.parser import parse\n",
    "\n",
    "today=date(2019,1,1)\n",
    "day = timedelta(days=10)\n",
    "print(type(today.day))\n",
    "\n",
    "result = [today+timedelta(days=x) for x in range(15)]\n",
    "\n",
    "# myMean = 50 \n",
    "# myStd = 3\n",
    "# arr = np.random.normal(myMean,myStd,(10000,2))\n",
    "\n",
    "\n",
    "man = np.random.normal(50,5,(10,))\n",
    "#print(man[1])\n",
    "man= np.round(man)\n",
    "final = np.hstack((man,Nan))\n",
    "#print(exp)\n",
    "Fresult = pd.Series(final,dtype=object,index = result)\n",
    "print(Fresult)\n",
    "\n",
    "\n",
    "man2 = np.random.normal(70,8,(10,))\n",
    "man2 = np.round(man2)\n",
    "finalB = np.hstack((Nan,man2))\n",
    "FresultB = pd.Series(finalB,index = result)\n",
    "print(FresultB)\n",
    "print(Fresult+FresultB)\n",
    "\n",
    "\"\"\"\n",
    "예시 \n",
    "start_day =datetime(2019,1,1)\n",
    "factoryA= pd.Series([int(x) for x in np.random.normal(50,5,(10,)),index = [start_day+timedelta(days=i) for i in range (10)]\n",
    "])\n",
    "\n",
    "\n",
    "\"\"\""
   ]
  },
  {
   "cell_type": "code",
   "execution_count": 110,
   "metadata": {},
   "outputs": [
    {
     "name": "stdout",
     "output_type": "stream",
     "text": [
      "2019-01-01    45\n",
      "2019-01-02    49\n",
      "2019-01-03    46\n",
      "2019-01-04    52\n",
      "2019-01-05    50\n",
      "2019-01-06    50\n",
      "2019-01-07    46\n",
      "2019-01-08    50\n",
      "2019-01-09    59\n",
      "2019-01-10    52\n",
      "dtype: int64\n",
      "2019-01-06    75\n",
      "2019-01-07    65\n",
      "2019-01-08    77\n",
      "2019-01-09    69\n",
      "2019-01-10    64\n",
      "2019-01-11    60\n",
      "2019-01-12    66\n",
      "2019-01-13    65\n",
      "2019-01-14    70\n",
      "2019-01-15    75\n",
      "dtype: int64\n",
      "2019-01-01      NaN\n",
      "2019-01-02      NaN\n",
      "2019-01-03      NaN\n",
      "2019-01-04      NaN\n",
      "2019-01-05      NaN\n",
      "2019-01-06    125.0\n",
      "2019-01-07    111.0\n",
      "2019-01-08    127.0\n",
      "2019-01-09    128.0\n",
      "2019-01-10    116.0\n",
      "2019-01-11      NaN\n",
      "2019-01-12      NaN\n",
      "2019-01-13      NaN\n",
      "2019-01-14      NaN\n",
      "2019-01-15      NaN\n",
      "dtype: float64\n",
      "{Timestamp('2019-01-02 00:00:00'), Timestamp('2019-01-03 00:00:00'), Timestamp('2019-01-04 00:00:00'), Timestamp('2019-01-01 00:00:00'), Timestamp('2019-01-05 00:00:00')}\n"
     ]
    },
    {
     "data": {
      "text/plain": [
       "'\\nindex_a = set(factoryA.index)\\nindex_b = set(factoryB.index)\\n\\nindex_a_b = index_a -index_b\\nindex_b_a = index_b-index_a\\nfor i in index_a_b:\\nfactoryB[i] = 0\\nfor i in index_b_a:\\nfactoryA[i] = 0 \\nprint(factoryA+factoryB)\\n\\n\\n\\n'"
      ]
     },
     "execution_count": 110,
     "metadata": {},
     "output_type": "execute_result"
    }
   ],
   "source": [
    "# b 공장이 5일부터 14일 까지일때 두 공장 생산량의 합을 구해보세요 \n",
    "start_day =datetime(2019,1,1)\n",
    "factoryA= pd.Series([int(x) for x in np.random.normal(50,5,(10,))],index = [start_day+timedelta(days=i) for i in range (10)]\n",
    ")\n",
    "#factoryA.append(pd.Series[\"2019-01-11\":6])\n",
    "# factoryA_=pd.Series([0 for x in range(15)],index = [start_day+timedelta(days=i) for i in range (15)])\n",
    "print(factoryA)\n",
    "start_day1 =start_day+timedelta(days=5) \n",
    "factoryB= pd.Series([int(x) for x in np.random.normal(70,8,(10,))],index = [start_day1+timedelta(days=i) for i in range (10)]\n",
    ")\n",
    "print(factoryB)\n",
    "print(factoryA+factoryB)\n",
    "index_a = set(factoryA.index)\n",
    "index_b = set(factoryB.index)\n",
    "\n",
    "# 부족한 인덱스만 채우고 맞추면 된다. \n",
    "\"\"\"\n",
    "index_a = set(factoryA.index)\n",
    "index_b = set(factoryB.index)\n",
    "\n",
    "index_a_b = index_a -index_b   # 없는 인덱스 찾기 \n",
    "index_b_a = index_b-index_a\n",
    "for i in index_a_b:\n",
    "factoryB[i] = 0               # 없던거 넣어주기 \n",
    "for i in index_b_a:\n",
    "factoryA[i] = 0 \n",
    "print(factoryA+factoryB)\n",
    "\n",
    "\n",
    "\n",
    "\"\"\""
   ]
  },
  {
   "cell_type": "code",
   "execution_count": 81,
   "metadata": {},
   "outputs": [
    {
     "name": "stdout",
     "output_type": "stream",
     "text": [
      "<class 'int'>\n"
     ]
    },
    {
     "ename": "ValueError",
     "evalue": "operands could not be broadcast together with shapes (10,) (5,) ",
     "output_type": "error",
     "traceback": [
      "\u001b[1;31m---------------------------------------------------------------------------\u001b[0m",
      "\u001b[1;31mValueError\u001b[0m                                Traceback (most recent call last)",
      "\u001b[1;32m<ipython-input-81-ee66e3408419>\u001b[0m in \u001b[0;36m<module>\u001b[1;34m\u001b[0m\n\u001b[0;32m     14\u001b[0m \u001b[0mman\u001b[0m\u001b[1;33m=\u001b[0m \u001b[0mnp\u001b[0m\u001b[1;33m.\u001b[0m\u001b[0mround\u001b[0m\u001b[1;33m(\u001b[0m\u001b[0mman\u001b[0m\u001b[1;33m)\u001b[0m\u001b[1;33m\u001b[0m\u001b[1;33m\u001b[0m\u001b[0m\n\u001b[0;32m     15\u001b[0m \u001b[0mNan\u001b[0m \u001b[1;33m=\u001b[0m \u001b[0mnp\u001b[0m\u001b[1;33m.\u001b[0m\u001b[0marray\u001b[0m\u001b[1;33m(\u001b[0m\u001b[1;33m[\u001b[0m\u001b[1;36m0\u001b[0m\u001b[1;33m,\u001b[0m\u001b[1;36m0\u001b[0m\u001b[1;33m,\u001b[0m\u001b[1;36m0\u001b[0m\u001b[1;33m,\u001b[0m\u001b[1;36m0\u001b[0m\u001b[1;33m,\u001b[0m\u001b[1;36m0\u001b[0m\u001b[1;33m]\u001b[0m\u001b[1;33m)\u001b[0m\u001b[1;33m\u001b[0m\u001b[1;33m\u001b[0m\u001b[0m\n\u001b[1;32m---> 16\u001b[1;33m \u001b[0mman1\u001b[0m \u001b[1;33m=\u001b[0m \u001b[0mman\u001b[0m\u001b[1;33m+\u001b[0m\u001b[0mNan\u001b[0m\u001b[1;33m\u001b[0m\u001b[1;33m\u001b[0m\u001b[0m\n\u001b[0m\u001b[0;32m     17\u001b[0m \u001b[1;31m#print(exp)\u001b[0m\u001b[1;33m\u001b[0m\u001b[1;33m\u001b[0m\u001b[1;33m\u001b[0m\u001b[0m\n\u001b[0;32m     18\u001b[0m \u001b[0mFresult\u001b[0m \u001b[1;33m=\u001b[0m \u001b[0mpd\u001b[0m\u001b[1;33m.\u001b[0m\u001b[0mSeries\u001b[0m\u001b[1;33m(\u001b[0m\u001b[0mman\u001b[0m\u001b[1;33m,\u001b[0m\u001b[0mdtype\u001b[0m\u001b[1;33m=\u001b[0m\u001b[0mobject\u001b[0m\u001b[1;33m,\u001b[0m\u001b[0mindex\u001b[0m \u001b[1;33m=\u001b[0m \u001b[0mresult\u001b[0m\u001b[1;33m)\u001b[0m\u001b[1;33m\u001b[0m\u001b[1;33m\u001b[0m\u001b[0m\n",
      "\u001b[1;31mValueError\u001b[0m: operands could not be broadcast together with shapes (10,) (5,) "
     ]
    }
   ],
   "source": [
    "today=date(2019,1,1)\n",
    "day = timedelta(days=10)\n",
    "print(type(today.day))\n",
    "\n",
    "#result = [today+timedelta(days=x) for x in range(15)]\n",
    "\n",
    "# myMean = 50 \n",
    "# myStd = 3\n",
    "# arr = np.random.normal(myMean,myStd,(10000,2))\n",
    "\n",
    "\n",
    "man = np.random.normal(50,5,(10,))\n",
    "#print(man[1])\n",
    "man= np.round(man)\n",
    "Nan = np.array([0,0,0,0,0])\n",
    "man1 = man+Nan\n",
    "#print(exp)\n",
    "Fresult = pd.Series(man,dtype=object,index = result)\n",
    "print(Fresult)"
   ]
  },
  {
   "cell_type": "code",
   "execution_count": 105,
   "metadata": {},
   "outputs": [
    {
     "name": "stdout",
     "output_type": "stream",
     "text": [
      "int32\n",
      "<class 'numpy.int32'>\n",
      "int32\n",
      "<class 'numpy.int32'>\n",
      "[55. 42. 51. 52. 61. 54. 49. 58. 57. 48.  0.  0.  0.  0.  0.]\n"
     ]
    }
   ],
   "source": [
    "Nan = np.array([0,0,0,0,0])\n",
    "\n",
    "man1 = man.astype('int32')\n",
    "print(man1.dtype)\n",
    "print(type(man1[0]))\n",
    "print(Nan.dtype)\n",
    "print(type(Nan[0]))\n",
    "#print(np.concatenate(man1,Nan))\n",
    "print(np.hstack((man,Nan)))"
   ]
  }
 ],
 "metadata": {
  "kernelspec": {
   "display_name": "[CPU_ENV]",
   "language": "python",
   "name": "cpu_env"
  },
  "language_info": {
   "codemirror_mode": {
    "name": "ipython",
    "version": 3
   },
   "file_extension": ".py",
   "mimetype": "text/x-python",
   "name": "python",
   "nbconvert_exporter": "python",
   "pygments_lexer": "ipython3",
   "version": "3.6.9"
  }
 },
 "nbformat": 4,
 "nbformat_minor": 2
}
